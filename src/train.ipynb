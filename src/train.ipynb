{
 "cells": [
  {
   "cell_type": "markdown",
   "metadata": {},
   "source": [
    "## Imports"
   ]
  },
  {
   "cell_type": "code",
   "execution_count": 1,
   "metadata": {},
   "outputs": [],
   "source": [
    "#DO NOT CHANGE THESE LINES\n",
    "using Suppressor\n",
    "@suppress begin\n",
    "    using Pkg\n",
    "    using DataFrames\n",
    "    using LazyJSON\n",
    "    using GLM \n",
    "    using MLJ \n",
    "    using MLJBase\n",
    "    using CSV\n",
    "    using Serialization\n",
    "    using MLJScientificTypes\n",
    "    using CategoricalArrays\n",
    "    using JLD2\n",
    "    using StatsBase\n",
    "    using StatsModels\n",
    "end"
   ]
  },
  {
   "cell_type": "markdown",
   "metadata": {},
   "source": [
    "## Paths"
   ]
  },
  {
   "cell_type": "code",
   "execution_count": 2,
   "metadata": {},
   "outputs": [],
   "source": [
    "# DO NOT CHANGE THESE LINES\n",
    "ROOT_DIR = dirname(pwd())\n",
    "MODEL_INPUTS_OUTPUTS = joinpath(ROOT_DIR, \"model_inputs_outputs\")\n",
    "INPUT_DIR = joinpath(MODEL_INPUTS_OUTPUTS, \"inputs\")\n",
    "INPUT_SCHEMA_DIR = joinpath(INPUT_DIR, \"schema\")\n",
    "DATA_DIR = joinpath(INPUT_DIR, \"data\")\n",
    "TRAIN_DIR = joinpath(DATA_DIR, \"training\")\n",
    "TEST_DIR = joinpath(DATA_DIR, \"testing\")\n",
    "MODEL_PATH = joinpath(MODEL_INPUTS_OUTPUTS, \"model\")\n",
    "MODEL_ARTIFACTS_PATH = joinpath(MODEL_PATH, \"artifacts\")\n",
    "OHE_ENCODER_FILE = joinpath(MODEL_ARTIFACTS_PATH, \"ohe.jld2\")\n",
    "PREDICTOR_DIR_PATH = joinpath(MODEL_ARTIFACTS_PATH, \"predictor\")\n",
    "PREDICTOR_FILE_PATH = joinpath(PREDICTOR_DIR_PATH, \"predictor.jld2\")\n",
    "IMPUTATION_FILE = joinpath(MODEL_ARTIFACTS_PATH, \"imputation.ser\")\n",
    "TOP_CATEGORIES = joinpath(MODEL_ARTIFACTS_PATH, \"top_categories.ser\")\n",
    "\n",
    "if !isdir(MODEL_ARTIFACTS_PATH)\n",
    "    mkdir(MODEL_ARTIFACTS_PATH)\n",
    "end\n",
    "if !isdir(PREDICTOR_DIR_PATH)\n",
    "    mkdir(PREDICTOR_DIR_PATH)\n",
    "end"
   ]
  },
  {
   "cell_type": "markdown",
   "metadata": {},
   "source": [
    "### Reading the schema\n",
    "The schema contains metadata about the datasets. We will use the scehma to get information about the type of each feature (NUMERIC or CATEGORICAL) and the id and target features, this will be helpful in preprocessing stage."
   ]
  },
  {
   "cell_type": "code",
   "execution_count": 3,
   "metadata": {},
   "outputs": [
    {
     "data": {
      "text/plain": [
       "\"target\""
      ]
     },
     "metadata": {},
     "output_type": "display_data"
    }
   ],
   "source": [
    "# Reading a schema from a JSON file and extracting features\n",
    "file_name = first(filter(x -> endswith(x, \"json\"), readdir(INPUT_SCHEMA_DIR)))\n",
    "schema_path = joinpath(INPUT_SCHEMA_DIR, file_name)\n",
    "schema_string = read(schema_path, String)  # Read file content as a string\n",
    "schema = LazyJSON.parse(schema_string)  # Parse using LazyJSON\n",
    "\n",
    "features = schema[\"features\"]\n",
    "\n",
    "# Identifying numeric, categorical, and nullable features\n",
    "numeric_features = String[]\n",
    "categorical_features = String[]\n",
    "nullable_features = String[]\n",
    "\n",
    "for f in features\n",
    "    if f[\"dataType\"] == \"CATEGORICAL\"\n",
    "        push!(categorical_features, f[\"name\"])\n",
    "    else\n",
    "        push!(numeric_features, f[\"name\"])\n",
    "    end\n",
    "    if f[\"nullable\"]\n",
    "        push!(nullable_features, f[\"name\"])\n",
    "    end\n",
    "end\n",
    "\n",
    "# Extracting ID and target features\n",
    "id_feature = schema[\"id\"][\"name\"]\n",
    "target_feature = schema[\"target\"][\"name\"]\n"
   ]
  },
  {
   "cell_type": "markdown",
   "metadata": {},
   "source": [
    "### Reading training data"
   ]
  },
  {
   "cell_type": "code",
   "execution_count": 4,
   "metadata": {},
   "outputs": [
    {
     "data": {
      "text/html": [
       "<div class=\"data-frame\"><p>5 rows × 4 columns</p><table class=\"data-frame\"><thead><tr><th></th><th>id</th><th>number</th><th>color</th><th>target</th></tr><tr><th></th><th title=\"String7\">String7</th><th title=\"Union{Missing, Float64}\">Float64?</th><th title=\"Union{Missing, String7}\">String7?</th><th title=\"Float64\">Float64</th></tr></thead><tbody><tr><th>1</th><td>YDDKTO</td><td><em>missing</em></td><td><em>missing</em></td><td>84.7411</td></tr><tr><th>2</th><td>FPLK2Z</td><td>3.3782</td><td>Red</td><td>26.2021</td></tr><tr><th>3</th><td>P2YCAP</td><td>2.248</td><td>Blue</td><td>112.355</td></tr><tr><th>4</th><td>IMT8XP</td><td>1.9806</td><td>Blue</td><td>109.826</td></tr><tr><th>5</th><td>5D9Q5F</td><td>0.5048</td><td>Red</td><td>1.0144</td></tr></tbody></table></div>"
      ],
      "text/latex": [
       "\\begin{tabular}{r|cccc}\n",
       "\t& id & number & color & target\\\\\n",
       "\t\\hline\n",
       "\t& String7 & Float64? & String7? & Float64\\\\\n",
       "\t\\hline\n",
       "\t1 & YDDKTO & \\emph{missing} & \\emph{missing} & 84.7411 \\\\\n",
       "\t2 & FPLK2Z & 3.3782 & Red & 26.2021 \\\\\n",
       "\t3 & P2YCAP & 2.248 & Blue & 112.355 \\\\\n",
       "\t4 & IMT8XP & 1.9806 & Blue & 109.826 \\\\\n",
       "\t5 & 5D9Q5F & 0.5048 & Red & 1.0144 \\\\\n",
       "\\end{tabular}\n"
      ],
      "text/plain": [
       "\u001b[1m5×4 DataFrame\u001b[0m\n",
       "\u001b[1m Row \u001b[0m│\u001b[1m id      \u001b[0m\u001b[1m number       \u001b[0m\u001b[1m color    \u001b[0m\u001b[1m target   \u001b[0m\n",
       "\u001b[1m     \u001b[0m│\u001b[90m String7 \u001b[0m\u001b[90m Float64?     \u001b[0m\u001b[90m String7? \u001b[0m\u001b[90m Float64  \u001b[0m\n",
       "─────┼───────────────────────────────────────────\n",
       "   1 │ YDDKTO  \u001b[90m missing      \u001b[0m\u001b[90m missing  \u001b[0m  84.7411\n",
       "   2 │ FPLK2Z         3.3782  Red        26.2021\n",
       "   3 │ P2YCAP         2.248   Blue      112.355\n",
       "   4 │ IMT8XP         1.9806  Blue      109.826\n",
       "   5 │ 5D9Q5F         0.5048  Red         1.0144"
      ]
     },
     "metadata": {},
     "output_type": "display_data"
    }
   ],
   "source": [
    "# Find the first CSV file in the TRAIN_DIR\n",
    "file_name = first(filter(x -> endswith(x, \".csv\"), readdir(TRAIN_DIR)))\n",
    "file_path = joinpath(TRAIN_DIR, file_name)\n",
    "\n",
    "# Read the CSV file into a DataFrame\n",
    "df = CSV.File(file_path) |> DataFrame\n",
    "\n",
    "# Display the first few rows of the DataFrame\n",
    "first(df, 5)\n"
   ]
  },
  {
   "cell_type": "markdown",
   "metadata": {},
   "source": [
    "## Data Preprocessing\n",
    "Data preprocessing is very important before training the model, as the data may contain missing values in some cells. Moreover, most of the learning algorithms cannot work with categorical data, thus the data has to be encoded.\n",
    "\n",
    "In this section we will impute the missing values and encode the categorical features. Afterwards the data will be ready to train the model."
   ]
  },
  {
   "cell_type": "markdown",
   "metadata": {},
   "source": [
    "##### Imputing missing data\n",
    "> The median value will be used to impute missing values of the numeric features and the mode will be used to impute categorical features.\n",
    "\n",
    "##### You can add your own preprocessing steps such as:\n",
    "<ul>\n",
    "<li>Normalization</li> <br>\n",
    "<li>Outlier removal</li><br>\n",
    "<li>Dropping or adding features</li><br>\n",
    "</ul>\n",
    "\n",
    "### Important note:\n",
    "<p> \n",
    "Saving the values used for imputation during training step is crucial. These values will be used to impute missing data in the testing set. This is very important to avoid the well known problem of data leakage. During testing, you should not make any assumptions about the data in hand, alternatively anything needed during the testing phase should be learned from the training phase. This is why we are creating a dictionary of values used during training to reuse these values during testing.\n",
    "</p>\n"
   ]
  },
  {
   "cell_type": "code",
   "execution_count": 5,
   "metadata": {},
   "outputs": [],
   "source": [
    "# Imputing missing data\n",
    "imputation_values = Dict{String, Any}()\n",
    "\n",
    "for column in nullable_features\n",
    "    if column in numeric_features\n",
    "        value = median(skipmissing(df[!, column]))\n",
    "    else\n",
    "        value = mode(skipmissing(df[!, column]))\n",
    "    end\n",
    "    df[!, column] = coalesce.(df[!, column], value)\n",
    "    imputation_values[column] = value\n",
    "end\n",
    "\n",
    "# Serialize the imputation_values dictionary to a binary file\n",
    "open(IMPUTATION_FILE, \"w\") do io\n",
    "    serialize(io, imputation_values)\n",
    "end\n"
   ]
  },
  {
   "cell_type": "code",
   "execution_count": 6,
   "metadata": {},
   "outputs": [
    {
     "data": {
      "text/html": [
       "<div class=\"data-frame\"><p>160 rows × 2 columns</p><table class=\"data-frame\"><thead><tr><th></th><th>number</th><th>color</th></tr><tr><th></th><th title=\"Float64\">Float64</th><th title=\"String7\">String7</th></tr></thead><tbody><tr><th>1</th><td>5.05815</td><td>Blue</td></tr><tr><th>2</th><td>3.3782</td><td>Red</td></tr><tr><th>3</th><td>2.248</td><td>Blue</td></tr><tr><th>4</th><td>1.9806</td><td>Blue</td></tr><tr><th>5</th><td>0.5048</td><td>Red</td></tr><tr><th>6</th><td>8.1929</td><td>Red</td></tr><tr><th>7</th><td>5.05815</td><td>Blue</td></tr><tr><th>8</th><td>1.1673</td><td>Red</td></tr><tr><th>9</th><td>1.5919</td><td>Red</td></tr><tr><th>10</th><td>0.1463</td><td>Green</td></tr><tr><th>11</th><td>5.842</td><td>Green</td></tr><tr><th>12</th><td>8.7992</td><td>Green</td></tr><tr><th>13</th><td>7.6324</td><td>Blue</td></tr><tr><th>14</th><td>2.9973</td><td>Blue</td></tr><tr><th>15</th><td>2.6222</td><td>Blue</td></tr><tr><th>16</th><td>6.0104</td><td>Red</td></tr><tr><th>17</th><td>5.05815</td><td>Blue</td></tr><tr><th>18</th><td>5.198</td><td>Green</td></tr><tr><th>19</th><td>4.8402</td><td>Red</td></tr><tr><th>20</th><td>4.5851</td><td>Blue</td></tr><tr><th>21</th><td>8.3826</td><td>Blue</td></tr><tr><th>22</th><td>1.981</td><td>Blue</td></tr><tr><th>23</th><td>4.2845</td><td>Blue</td></tr><tr><th>24</th><td>8.1262</td><td>Green</td></tr><tr><th>&vellip;</th><td>&vellip;</td><td>&vellip;</td></tr></tbody></table></div>"
      ],
      "text/latex": [
       "\\begin{tabular}{r|cc}\n",
       "\t& number & color\\\\\n",
       "\t\\hline\n",
       "\t& Float64 & String7\\\\\n",
       "\t\\hline\n",
       "\t1 & 5.05815 & Blue \\\\\n",
       "\t2 & 3.3782 & Red \\\\\n",
       "\t3 & 2.248 & Blue \\\\\n",
       "\t4 & 1.9806 & Blue \\\\\n",
       "\t5 & 0.5048 & Red \\\\\n",
       "\t6 & 8.1929 & Red \\\\\n",
       "\t7 & 5.05815 & Blue \\\\\n",
       "\t8 & 1.1673 & Red \\\\\n",
       "\t9 & 1.5919 & Red \\\\\n",
       "\t10 & 0.1463 & Green \\\\\n",
       "\t11 & 5.842 & Green \\\\\n",
       "\t12 & 8.7992 & Green \\\\\n",
       "\t13 & 7.6324 & Blue \\\\\n",
       "\t14 & 2.9973 & Blue \\\\\n",
       "\t15 & 2.6222 & Blue \\\\\n",
       "\t16 & 6.0104 & Red \\\\\n",
       "\t17 & 5.05815 & Blue \\\\\n",
       "\t18 & 5.198 & Green \\\\\n",
       "\t19 & 4.8402 & Red \\\\\n",
       "\t20 & 4.5851 & Blue \\\\\n",
       "\t21 & 8.3826 & Blue \\\\\n",
       "\t22 & 1.981 & Blue \\\\\n",
       "\t23 & 4.2845 & Blue \\\\\n",
       "\t24 & 8.1262 & Green \\\\\n",
       "\t$\\dots$ & $\\dots$ & $\\dots$ \\\\\n",
       "\\end{tabular}\n"
      ],
      "text/plain": [
       "\u001b[1m160×2 DataFrame\u001b[0m\n",
       "\u001b[1m Row \u001b[0m│\u001b[1m number  \u001b[0m\u001b[1m color   \u001b[0m\n",
       "\u001b[1m     \u001b[0m│\u001b[90m Float64 \u001b[0m\u001b[90m String7 \u001b[0m\n",
       "─────┼──────────────────\n",
       "   1 │ 5.05815  Blue\n",
       "   2 │ 3.3782   Red\n",
       "   3 │ 2.248    Blue\n",
       "   4 │ 1.9806   Blue\n",
       "   5 │ 0.5048   Red\n",
       "   6 │ 8.1929   Red\n",
       "   7 │ 5.05815  Blue\n",
       "   8 │ 1.1673   Red\n",
       "  ⋮  │    ⋮        ⋮\n",
       " 154 │ 1.6807   Red\n",
       " 155 │ 7.4267   Blue\n",
       " 156 │ 4.3612   Green\n",
       " 157 │ 5.05815  Red\n",
       " 158 │ 8.2868   Red\n",
       " 159 │ 3.0087   Green\n",
       " 160 │ 4.9505   Green\n",
       "\u001b[36m        145 rows omitted\u001b[0m"
      ]
     },
     "metadata": {},
     "output_type": "display_data"
    }
   ],
   "source": [
    "# Saving the id and target columns in a different variable\n",
    "ids = df[!, Symbol(id_feature)]\n",
    "target = df[!, Symbol(target_feature)]\n",
    "\n",
    "# Dropping the id and target from the DataFrame\n",
    "select!(df, Not([Symbol(id_feature), Symbol(target_feature)]))"
   ]
  },
  {
   "cell_type": "markdown",
   "metadata": {},
   "source": [
    "##### Encoding Categorical features\n",
    "<p>\n",
    "The id column is just an identifier for the training example, so we will exclude it during the encoding phase.<br>\n",
    "Target feature will be label encoded in the next step.\n",
    "</p>\n"
   ]
  },
  {
   "cell_type": "code",
   "execution_count": 7,
   "metadata": {},
   "outputs": [],
   "source": [
    "# Function to get top 3 categories\n",
    "function get_top_categories(df, features, n=3)\n",
    "    top_cats = Dict()\n",
    "    for feature in features\n",
    "        col_data = df[!, feature]\n",
    "        category_counts = countmap(col_data)\n",
    "        sorted_categories = sort(collect(category_counts), by=x->x[2], rev=true)\n",
    "        \n",
    "        # Take minimum between n and the number of unique categories\n",
    "        num_categories = min(n, length(sorted_categories))\n",
    "        \n",
    "        top_cats[feature] = [x[1] for x in sorted_categories[1:num_categories]]\n",
    "    end\n",
    "    return top_cats\n",
    "end\n",
    "\n",
    "# Get top 3 categories for specific features\n",
    "top_categories = get_top_categories(df, categorical_features)\n",
    "\n",
    "# Function to one-hot encode only the top 3 categories\n",
    "function one_hot_top_categories!(df, top_categories)\n",
    "    for (feature, top_cats) in top_categories\n",
    "        if length(top_cats) == 2  # Handle the binary case\n",
    "            # Assuming the first category in top_cats is treated as 'true'\n",
    "            new_col_name = \"$(feature)_binary\"\n",
    "            df[!, new_col_name] = df[!, feature] .== top_cats[1]\n",
    "        else  # Handle the general case\n",
    "            for cat in top_cats\n",
    "                new_col_name = \"$(feature)_$(cat)\"\n",
    "                df[!, new_col_name] = df[!, feature] .== cat\n",
    "            end\n",
    "        end\n",
    "        select!(df, Not(Symbol(feature)))  # Drop the original feature column\n",
    "    end\n",
    "end\n",
    "\n",
    "# Apply one-hot encoding\n",
    "one_hot_top_categories!(df, top_categories)\n",
    "\n",
    "# Serialize the imputation_values dictionary to a binary file\n",
    "open(TOP_CATEGORIES, \"w\") do io\n",
    "    serialize(io, top_categories)\n",
    "end\n"
   ]
  },
  {
   "cell_type": "markdown",
   "metadata": {},
   "source": [
    "### Training the Classifier\n",
    "We choose Linaer Regression model, but feel free to try your own and compare the results."
   ]
  },
  {
   "cell_type": "code",
   "execution_count": 8,
   "metadata": {
    "scrolled": true
   },
   "outputs": [],
   "source": [
    "# Concatenate the new DataFrame with the existing 'df' DataFrame horizontally\n",
    "df = hcat(df, DataFrame(target = target))\n",
    "\n",
    "# Get all column names\n",
    "all_columns = names(df)\n",
    "\n",
    "# Remove the target variable to get only predictor variables\n",
    "predictor_columns = filter(x -> x != \"target\", all_columns)\n",
    "\n",
    "# Create Terms for predictors and response\n",
    "predictor_terms = [Term(Symbol(col)) for col in predictor_columns]\n",
    "response_term = Term(:target)\n",
    "\n",
    "# Create the formula\n",
    "formula_obj = FormulaTerm(response_term, sum(predictor_terms))\n",
    "\n",
    "# Create a Linear Regression model and train it\n",
    "model = lm(formula_obj, df)\n",
    "\n",
    "# Your model is now trained on all predictor variables in 'df'\n",
    "\n",
    "# BEGIN\n",
    "    # If you want to perform additional operations on the model, you can do so here\n",
    "    # For example, you can set hyperparameters, do cross-validation, etc.\n",
    "    # model = ...\n",
    "# END\n",
    "\n",
    "# Saving the model to use it for predictions\n",
    "save(PREDICTOR_FILE_PATH, \"model\", model)\n"
   ]
  },
  {
   "cell_type": "code",
   "execution_count": 9,
   "metadata": {},
   "outputs": [],
   "source": []
  }
 ],
 "metadata": {
  "kernelspec": {
   "display_name": "Julia 1.9.3",
   "language": "julia",
   "name": "julia-1.9"
  },
  "language_info": {
   "file_extension": ".jl",
   "mimetype": "application/julia",
   "name": "julia",
   "version": "1.9.3"
  }
 },
 "nbformat": 4,
 "nbformat_minor": 4
}
