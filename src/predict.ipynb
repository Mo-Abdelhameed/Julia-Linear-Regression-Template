{
 "cells": [
  {
   "cell_type": "code",
   "execution_count": 24,
   "metadata": {},
   "outputs": [],
   "source": [
    "using DataFrames\n",
    "using JSON\n",
    "using GLM \n",
    "using MLJ \n",
    "using MLJBase\n",
    "using CSV\n",
    "using Serialization\n",
    "using MLJScientificTypes\n",
    "using CategoricalArrays\n",
    "using JLD2"
   ]
  },
  {
   "cell_type": "code",
   "execution_count": 25,
   "metadata": {},
   "outputs": [],
   "source": [
    "# Setting up directories\n",
    "ROOT_DIR = dirname(pwd())\n",
    "# Setting up directory and file paths\n",
    "MODEL_INPUTS_OUTPUTS = joinpath(ROOT_DIR, \"model_inputs_outputs\")\n",
    "INPUT_DIR = joinpath(MODEL_INPUTS_OUTPUTS, \"inputs\")\n",
    "INPUT_SCHEMA_DIR = joinpath(INPUT_DIR, \"schema\")\n",
    "DATA_DIR = joinpath(INPUT_DIR, \"data\")\n",
    "OUTPUT_DIR = joinpath(MODEL_INPUTS_OUTPUTS, \"outputs\")\n",
    "TRAIN_DIR = joinpath(DATA_DIR, \"training\")\n",
    "TEST_DIR = joinpath(DATA_DIR, \"testing\")\n",
    "MODEL_PATH = joinpath(MODEL_INPUTS_OUTPUTS, \"model\")\n",
    "MODEL_ARTIFACTS_PATH = joinpath(MODEL_PATH, \"artifacts\")\n",
    "OHE_ENCODER_FILE = joinpath(MODEL_ARTIFACTS_PATH, \"ohe.jld2\")\n",
    "PREDICTOR_DIR_PATH = joinpath(MODEL_ARTIFACTS_PATH, \"predictor\")\n",
    "PREDICTOR_FILE_PATH = joinpath(PREDICTOR_DIR_PATH, \"predictor.jld2\")\n",
    "IMPUTATION_FILE = joinpath(MODEL_ARTIFACTS_PATH, \"imputation.json\")\n",
    "TOP_CATEGORIES = joinpath(MODEL_ARTIFACTS_PATH, \"top_categories.json\")\n",
    "PREDICTIONS_DIR = joinpath(OUTPUT_DIR, \"predictions\")\n",
    "PREDICTIONS_FILE = joinpath(PREDICTIONS_DIR, \"predictions.csv\")\n",
    "\n",
    "\n",
    "if !isdir(MODEL_ARTIFACTS_PATH)\n",
    "    mkdir(MODEL_ARTIFACTS_PATH)\n",
    "end\n",
    "if !isdir(PREDICTOR_DIR_PATH)\n",
    "    mkdir(PREDICTOR_DIR_PATH)\n",
    "end"
   ]
  },
  {
   "cell_type": "code",
   "execution_count": 26,
   "metadata": {},
   "outputs": [
    {
     "data": {
      "text/plain": [
       "\"percent_pell_grant\""
      ]
     },
     "metadata": {},
     "output_type": "display_data"
    }
   ],
   "source": [
    "# Reading a schema from a JSON file and extracting features\n",
    "file_name = first(filter(x -> endswith(x, \"json\"), readdir(INPUT_SCHEMA_DIR)))\n",
    "schema_path = joinpath(INPUT_SCHEMA_DIR, file_name)\n",
    "schema = JSON.parsefile(schema_path)\n",
    "features = schema[\"features\"]\n",
    "\n",
    "# Identifying numeric, categorical, and nullable features\n",
    "numeric_features = String[]\n",
    "categorical_features = String[]\n",
    "nullable_features = String[]\n",
    "\n",
    "for f in features\n",
    "    if f[\"dataType\"] == \"CATEGORICAL\"\n",
    "        push!(categorical_features, f[\"name\"])\n",
    "    else\n",
    "        push!(numeric_features, f[\"name\"])\n",
    "    end\n",
    "    if f[\"nullable\"]\n",
    "        push!(nullable_features, f[\"name\"])\n",
    "    end\n",
    "end\n",
    "\n",
    "# Extracting ID and target features\n",
    "id_feature = schema[\"id\"][\"name\"]\n",
    "target_feature = schema[\"target\"][\"name\"]"
   ]
  },
  {
   "cell_type": "code",
   "execution_count": 27,
   "metadata": {},
   "outputs": [
    {
     "data": {
      "text/html": [
       "<div class=\"data-frame\"><p>1,413 rows × 41 columns (omitted printing of 36 columns)</p><table class=\"data-frame\"><thead><tr><th></th><th>unit_id</th><th>act_combined_midrange</th><th>act_english_midrange</th><th>act_math_midrange</th><th>act_writing_midrange</th></tr><tr><th></th><th title=\"Int64\">Int64</th><th title=\"Union{Missing, Float64}\">Float64?</th><th title=\"Union{Missing, Float64}\">Float64?</th><th title=\"Union{Missing, Float64}\">Float64?</th><th title=\"Union{Missing, Float64}\">Float64?</th></tr></thead><tbody><tr><th>1</th><td>422695</td><td><em>missing</em></td><td><em>missing</em></td><td><em>missing</em></td><td><em>missing</em></td></tr><tr><th>2</th><td>363712</td><td><em>missing</em></td><td><em>missing</em></td><td><em>missing</em></td><td><em>missing</em></td></tr><tr><th>3</th><td>119331</td><td><em>missing</em></td><td><em>missing</em></td><td><em>missing</em></td><td><em>missing</em></td></tr><tr><th>4</th><td>476142</td><td><em>missing</em></td><td><em>missing</em></td><td><em>missing</em></td><td><em>missing</em></td></tr><tr><th>5</th><td>194259</td><td><em>missing</em></td><td><em>missing</em></td><td><em>missing</em></td><td><em>missing</em></td></tr><tr><th>6</th><td>171456</td><td>22.0</td><td>22.0</td><td>21.0</td><td><em>missing</em></td></tr><tr><th>7</th><td>185828</td><td>26.0</td><td>24.0</td><td>26.0</td><td><em>missing</em></td></tr><tr><th>8</th><td>140827</td><td><em>missing</em></td><td><em>missing</em></td><td><em>missing</em></td><td><em>missing</em></td></tr><tr><th>9</th><td>213589</td><td><em>missing</em></td><td><em>missing</em></td><td><em>missing</em></td><td><em>missing</em></td></tr><tr><th>10</th><td>201982</td><td><em>missing</em></td><td><em>missing</em></td><td><em>missing</em></td><td><em>missing</em></td></tr><tr><th>11</th><td>227243</td><td>20.0</td><td>18.0</td><td>21.0</td><td><em>missing</em></td></tr><tr><th>12</th><td>182564</td><td><em>missing</em></td><td><em>missing</em></td><td><em>missing</em></td><td><em>missing</em></td></tr><tr><th>13</th><td>123952</td><td>21.0</td><td>17.0</td><td>24.0</td><td>7.0</td></tr><tr><th>14</th><td>475440</td><td><em>missing</em></td><td><em>missing</em></td><td><em>missing</em></td><td><em>missing</em></td></tr><tr><th>15</th><td>200013</td><td><em>missing</em></td><td><em>missing</em></td><td><em>missing</em></td><td><em>missing</em></td></tr><tr><th>16</th><td>165820</td><td>20.0</td><td><em>missing</em></td><td><em>missing</em></td><td><em>missing</em></td></tr><tr><th>17</th><td>169248</td><td>22.0</td><td>22.0</td><td>22.0</td><td><em>missing</em></td></tr><tr><th>18</th><td>197522</td><td><em>missing</em></td><td><em>missing</em></td><td><em>missing</em></td><td><em>missing</em></td></tr><tr><th>19</th><td>197993</td><td><em>missing</em></td><td><em>missing</em></td><td><em>missing</em></td><td><em>missing</em></td></tr><tr><th>20</th><td>113397</td><td><em>missing</em></td><td><em>missing</em></td><td><em>missing</em></td><td><em>missing</em></td></tr><tr><th>21</th><td>145309</td><td><em>missing</em></td><td><em>missing</em></td><td><em>missing</em></td><td><em>missing</em></td></tr><tr><th>22</th><td>219578</td><td>25.0</td><td>25.0</td><td>22.0</td><td><em>missing</em></td></tr><tr><th>23</th><td>446084</td><td><em>missing</em></td><td><em>missing</em></td><td><em>missing</em></td><td><em>missing</em></td></tr><tr><th>24</th><td>210146</td><td><em>missing</em></td><td><em>missing</em></td><td><em>missing</em></td><td><em>missing</em></td></tr><tr><th>&vellip;</th><td>&vellip;</td><td>&vellip;</td><td>&vellip;</td><td>&vellip;</td><td>&vellip;</td></tr></tbody></table></div>"
      ],
      "text/latex": [
       "\\begin{tabular}{r|cccccc}\n",
       "\t& unit\\_id & act\\_combined\\_midrange & act\\_english\\_midrange & act\\_math\\_midrange & act\\_writing\\_midrange & \\\\\n",
       "\t\\hline\n",
       "\t& Int64 & Float64? & Float64? & Float64? & Float64? & \\\\\n",
       "\t\\hline\n",
       "\t1 & 422695 & \\emph{missing} & \\emph{missing} & \\emph{missing} & \\emph{missing} & $\\dots$ \\\\\n",
       "\t2 & 363712 & \\emph{missing} & \\emph{missing} & \\emph{missing} & \\emph{missing} & $\\dots$ \\\\\n",
       "\t3 & 119331 & \\emph{missing} & \\emph{missing} & \\emph{missing} & \\emph{missing} & $\\dots$ \\\\\n",
       "\t4 & 476142 & \\emph{missing} & \\emph{missing} & \\emph{missing} & \\emph{missing} & $\\dots$ \\\\\n",
       "\t5 & 194259 & \\emph{missing} & \\emph{missing} & \\emph{missing} & \\emph{missing} & $\\dots$ \\\\\n",
       "\t6 & 171456 & 22.0 & 22.0 & 21.0 & \\emph{missing} & $\\dots$ \\\\\n",
       "\t7 & 185828 & 26.0 & 24.0 & 26.0 & \\emph{missing} & $\\dots$ \\\\\n",
       "\t8 & 140827 & \\emph{missing} & \\emph{missing} & \\emph{missing} & \\emph{missing} & $\\dots$ \\\\\n",
       "\t9 & 213589 & \\emph{missing} & \\emph{missing} & \\emph{missing} & \\emph{missing} & $\\dots$ \\\\\n",
       "\t10 & 201982 & \\emph{missing} & \\emph{missing} & \\emph{missing} & \\emph{missing} & $\\dots$ \\\\\n",
       "\t11 & 227243 & 20.0 & 18.0 & 21.0 & \\emph{missing} & $\\dots$ \\\\\n",
       "\t12 & 182564 & \\emph{missing} & \\emph{missing} & \\emph{missing} & \\emph{missing} & $\\dots$ \\\\\n",
       "\t13 & 123952 & 21.0 & 17.0 & 24.0 & 7.0 & $\\dots$ \\\\\n",
       "\t14 & 475440 & \\emph{missing} & \\emph{missing} & \\emph{missing} & \\emph{missing} & $\\dots$ \\\\\n",
       "\t15 & 200013 & \\emph{missing} & \\emph{missing} & \\emph{missing} & \\emph{missing} & $\\dots$ \\\\\n",
       "\t16 & 165820 & 20.0 & \\emph{missing} & \\emph{missing} & \\emph{missing} & $\\dots$ \\\\\n",
       "\t17 & 169248 & 22.0 & 22.0 & 22.0 & \\emph{missing} & $\\dots$ \\\\\n",
       "\t18 & 197522 & \\emph{missing} & \\emph{missing} & \\emph{missing} & \\emph{missing} & $\\dots$ \\\\\n",
       "\t19 & 197993 & \\emph{missing} & \\emph{missing} & \\emph{missing} & \\emph{missing} & $\\dots$ \\\\\n",
       "\t20 & 113397 & \\emph{missing} & \\emph{missing} & \\emph{missing} & \\emph{missing} & $\\dots$ \\\\\n",
       "\t21 & 145309 & \\emph{missing} & \\emph{missing} & \\emph{missing} & \\emph{missing} & $\\dots$ \\\\\n",
       "\t22 & 219578 & 25.0 & 25.0 & 22.0 & \\emph{missing} & $\\dots$ \\\\\n",
       "\t23 & 446084 & \\emph{missing} & \\emph{missing} & \\emph{missing} & \\emph{missing} & $\\dots$ \\\\\n",
       "\t24 & 210146 & \\emph{missing} & \\emph{missing} & \\emph{missing} & \\emph{missing} & $\\dots$ \\\\\n",
       "\t$\\dots$ & $\\dots$ & $\\dots$ & $\\dots$ & $\\dots$ & $\\dots$ &  \\\\\n",
       "\\end{tabular}\n"
      ],
      "text/plain": [
       "\u001b[1m1413×41 DataFrame\u001b[0m\n",
       "\u001b[1m  Row \u001b[0m│\u001b[1m unit_id \u001b[0m\u001b[1m act_combined_midrange \u001b[0m\u001b[1m act_english_midrange \u001b[0m\u001b[1m act_math_midrang\u001b[0m ⋯\n",
       "\u001b[1m      \u001b[0m│\u001b[90m Int64   \u001b[0m\u001b[90m Float64?              \u001b[0m\u001b[90m Float64?             \u001b[0m\u001b[90m Float64?        \u001b[0m ⋯\n",
       "──────┼─────────────────────────────────────────────────────────────────────────\n",
       "    1 │  422695 \u001b[90m             missing   \u001b[0m\u001b[90m            missing   \u001b[0m\u001b[90m         missing \u001b[0m ⋯\n",
       "    2 │  363712 \u001b[90m             missing   \u001b[0m\u001b[90m            missing   \u001b[0m\u001b[90m         missing\u001b[0m\n",
       "    3 │  119331 \u001b[90m             missing   \u001b[0m\u001b[90m            missing   \u001b[0m\u001b[90m         missing\u001b[0m\n",
       "    4 │  476142 \u001b[90m             missing   \u001b[0m\u001b[90m            missing   \u001b[0m\u001b[90m         missing\u001b[0m\n",
       "    5 │  194259 \u001b[90m             missing   \u001b[0m\u001b[90m            missing   \u001b[0m\u001b[90m         missing \u001b[0m ⋯\n",
       "    6 │  171456                   22.0                  22.0               21.\n",
       "    7 │  185828                   26.0                  24.0               26.\n",
       "    8 │  140827 \u001b[90m             missing   \u001b[0m\u001b[90m            missing   \u001b[0m\u001b[90m         missing\u001b[0m\n",
       "  ⋮   │    ⋮               ⋮                     ⋮                    ⋮        ⋱\n",
       " 1407 │  137245 \u001b[90m             missing   \u001b[0m\u001b[90m            missing   \u001b[0m\u001b[90m         missing \u001b[0m ⋯\n",
       " 1408 │  454397 \u001b[90m             missing   \u001b[0m\u001b[90m            missing   \u001b[0m\u001b[90m         missing\u001b[0m\n",
       " 1409 │  442781 \u001b[90m             missing   \u001b[0m\u001b[90m            missing   \u001b[0m\u001b[90m         missing\u001b[0m\n",
       " 1410 │  456287 \u001b[90m             missing   \u001b[0m\u001b[90m            missing   \u001b[0m\u001b[90m         missing\u001b[0m\n",
       " 1411 │  206446 \u001b[90m             missing   \u001b[0m\u001b[90m            missing   \u001b[0m\u001b[90m         missing \u001b[0m ⋯\n",
       " 1412 │  227368                   20.0                  19.0               21.\n",
       " 1413 │  461999 \u001b[90m             missing   \u001b[0m\u001b[90m            missing   \u001b[0m\u001b[90m         missing\u001b[0m\n",
       "\u001b[36m                                                38 columns and 1398 rows omitted\u001b[0m"
      ]
     },
     "metadata": {},
     "output_type": "display_data"
    }
   ],
   "source": [
    "file_name = filter(x -> occursin(\".csv\", x), readdir(TEST_DIR))[1]\n",
    "file_path = joinpath(TEST_DIR, file_name)\n",
    "df = DataFrame(CSV.File(file_path))\n"
   ]
  },
  {
   "cell_type": "code",
   "execution_count": 28,
   "metadata": {},
   "outputs": [
    {
     "data": {
      "text/html": [
       "<div class=\"data-frame\"><p>1,413 rows × 40 columns (omitted printing of 36 columns)</p><table class=\"data-frame\"><thead><tr><th></th><th>act_combined_midrange</th><th>act_english_midrange</th><th>act_math_midrange</th><th>act_writing_midrange</th></tr><tr><th></th><th title=\"Float64\">Float64</th><th title=\"Float64\">Float64</th><th title=\"Float64\">Float64</th><th title=\"Float64\">Float64</th></tr></thead><tbody><tr><th>1</th><td>23.0</td><td>22.0</td><td>22.0</td><td>7.0</td></tr><tr><th>2</th><td>23.0</td><td>22.0</td><td>22.0</td><td>7.0</td></tr><tr><th>3</th><td>23.0</td><td>22.0</td><td>22.0</td><td>7.0</td></tr><tr><th>4</th><td>23.0</td><td>22.0</td><td>22.0</td><td>7.0</td></tr><tr><th>5</th><td>23.0</td><td>22.0</td><td>22.0</td><td>7.0</td></tr><tr><th>6</th><td>22.0</td><td>22.0</td><td>21.0</td><td>7.0</td></tr><tr><th>7</th><td>26.0</td><td>24.0</td><td>26.0</td><td>7.0</td></tr><tr><th>8</th><td>23.0</td><td>22.0</td><td>22.0</td><td>7.0</td></tr><tr><th>9</th><td>23.0</td><td>22.0</td><td>22.0</td><td>7.0</td></tr><tr><th>10</th><td>23.0</td><td>22.0</td><td>22.0</td><td>7.0</td></tr><tr><th>11</th><td>20.0</td><td>18.0</td><td>21.0</td><td>7.0</td></tr><tr><th>12</th><td>23.0</td><td>22.0</td><td>22.0</td><td>7.0</td></tr><tr><th>13</th><td>21.0</td><td>17.0</td><td>24.0</td><td>7.0</td></tr><tr><th>14</th><td>23.0</td><td>22.0</td><td>22.0</td><td>7.0</td></tr><tr><th>15</th><td>23.0</td><td>22.0</td><td>22.0</td><td>7.0</td></tr><tr><th>16</th><td>20.0</td><td>22.0</td><td>22.0</td><td>7.0</td></tr><tr><th>17</th><td>22.0</td><td>22.0</td><td>22.0</td><td>7.0</td></tr><tr><th>18</th><td>23.0</td><td>22.0</td><td>22.0</td><td>7.0</td></tr><tr><th>19</th><td>23.0</td><td>22.0</td><td>22.0</td><td>7.0</td></tr><tr><th>20</th><td>23.0</td><td>22.0</td><td>22.0</td><td>7.0</td></tr><tr><th>21</th><td>23.0</td><td>22.0</td><td>22.0</td><td>7.0</td></tr><tr><th>22</th><td>25.0</td><td>25.0</td><td>22.0</td><td>7.0</td></tr><tr><th>23</th><td>23.0</td><td>22.0</td><td>22.0</td><td>7.0</td></tr><tr><th>24</th><td>23.0</td><td>22.0</td><td>22.0</td><td>7.0</td></tr><tr><th>&vellip;</th><td>&vellip;</td><td>&vellip;</td><td>&vellip;</td><td>&vellip;</td></tr></tbody></table></div>"
      ],
      "text/latex": [
       "\\begin{tabular}{r|ccccc}\n",
       "\t& act\\_combined\\_midrange & act\\_english\\_midrange & act\\_math\\_midrange & act\\_writing\\_midrange & \\\\\n",
       "\t\\hline\n",
       "\t& Float64 & Float64 & Float64 & Float64 & \\\\\n",
       "\t\\hline\n",
       "\t1 & 23.0 & 22.0 & 22.0 & 7.0 & $\\dots$ \\\\\n",
       "\t2 & 23.0 & 22.0 & 22.0 & 7.0 & $\\dots$ \\\\\n",
       "\t3 & 23.0 & 22.0 & 22.0 & 7.0 & $\\dots$ \\\\\n",
       "\t4 & 23.0 & 22.0 & 22.0 & 7.0 & $\\dots$ \\\\\n",
       "\t5 & 23.0 & 22.0 & 22.0 & 7.0 & $\\dots$ \\\\\n",
       "\t6 & 22.0 & 22.0 & 21.0 & 7.0 & $\\dots$ \\\\\n",
       "\t7 & 26.0 & 24.0 & 26.0 & 7.0 & $\\dots$ \\\\\n",
       "\t8 & 23.0 & 22.0 & 22.0 & 7.0 & $\\dots$ \\\\\n",
       "\t9 & 23.0 & 22.0 & 22.0 & 7.0 & $\\dots$ \\\\\n",
       "\t10 & 23.0 & 22.0 & 22.0 & 7.0 & $\\dots$ \\\\\n",
       "\t11 & 20.0 & 18.0 & 21.0 & 7.0 & $\\dots$ \\\\\n",
       "\t12 & 23.0 & 22.0 & 22.0 & 7.0 & $\\dots$ \\\\\n",
       "\t13 & 21.0 & 17.0 & 24.0 & 7.0 & $\\dots$ \\\\\n",
       "\t14 & 23.0 & 22.0 & 22.0 & 7.0 & $\\dots$ \\\\\n",
       "\t15 & 23.0 & 22.0 & 22.0 & 7.0 & $\\dots$ \\\\\n",
       "\t16 & 20.0 & 22.0 & 22.0 & 7.0 & $\\dots$ \\\\\n",
       "\t17 & 22.0 & 22.0 & 22.0 & 7.0 & $\\dots$ \\\\\n",
       "\t18 & 23.0 & 22.0 & 22.0 & 7.0 & $\\dots$ \\\\\n",
       "\t19 & 23.0 & 22.0 & 22.0 & 7.0 & $\\dots$ \\\\\n",
       "\t20 & 23.0 & 22.0 & 22.0 & 7.0 & $\\dots$ \\\\\n",
       "\t21 & 23.0 & 22.0 & 22.0 & 7.0 & $\\dots$ \\\\\n",
       "\t22 & 25.0 & 25.0 & 22.0 & 7.0 & $\\dots$ \\\\\n",
       "\t23 & 23.0 & 22.0 & 22.0 & 7.0 & $\\dots$ \\\\\n",
       "\t24 & 23.0 & 22.0 & 22.0 & 7.0 & $\\dots$ \\\\\n",
       "\t$\\dots$ & $\\dots$ & $\\dots$ & $\\dots$ & $\\dots$ &  \\\\\n",
       "\\end{tabular}\n"
      ],
      "text/plain": [
       "\u001b[1m1413×40 DataFrame\u001b[0m\n",
       "\u001b[1m  Row \u001b[0m│\u001b[1m act_combined_midrange \u001b[0m\u001b[1m act_english_midrange \u001b[0m\u001b[1m act_math_midrange \u001b[0m\u001b[1m act_wr\u001b[0m ⋯\n",
       "\u001b[1m      \u001b[0m│\u001b[90m Float64               \u001b[0m\u001b[90m Float64              \u001b[0m\u001b[90m Float64           \u001b[0m\u001b[90m Float6\u001b[0m ⋯\n",
       "──────┼─────────────────────────────────────────────────────────────────────────\n",
       "    1 │                  23.0                  22.0               22.0         ⋯\n",
       "    2 │                  23.0                  22.0               22.0\n",
       "    3 │                  23.0                  22.0               22.0\n",
       "    4 │                  23.0                  22.0               22.0\n",
       "    5 │                  23.0                  22.0               22.0         ⋯\n",
       "    6 │                  22.0                  22.0               21.0\n",
       "    7 │                  26.0                  24.0               26.0\n",
       "    8 │                  23.0                  22.0               22.0\n",
       "  ⋮   │           ⋮                     ⋮                    ⋮                 ⋱\n",
       " 1407 │                  23.0                  22.0               22.0         ⋯\n",
       " 1408 │                  23.0                  22.0               22.0\n",
       " 1409 │                  23.0                  22.0               22.0\n",
       " 1410 │                  23.0                  22.0               22.0\n",
       " 1411 │                  23.0                  22.0               22.0         ⋯\n",
       " 1412 │                  20.0                  19.0               21.0\n",
       " 1413 │                  23.0                  22.0               22.0\n",
       "\u001b[36m                                                37 columns and 1398 rows omitted\u001b[0m"
      ]
     },
     "metadata": {},
     "output_type": "display_data"
    }
   ],
   "source": [
    "imputation_values = JSON.parsefile(IMPUTATION_FILE)\n",
    "for column in nullable_features\n",
    "    df[!, Symbol(column)] .= coalesce.(df[!, Symbol(column)], get(imputation_values, string(column), missing))\n",
    "end\n",
    "\n",
    "# Saving the id column in a different variable\n",
    "ids = df[!, Symbol(id_feature)]\n",
    "\n",
    "# Dropping the id and target from the DataFrame\n",
    "select!(df, Not([Symbol(id_feature)]))"
   ]
  },
  {
   "cell_type": "code",
   "execution_count": 29,
   "metadata": {},
   "outputs": [],
   "source": [
    "json_content = read(TOP_CATEGORIES, String)\n",
    "loaded_top_categories = JSON.parse(json_content)\n",
    "\n",
    "# Function to one-hot encode only the top 3 categories\n",
    "function one_hot_top_categories!(df, top_categories)\n",
    "    for (feature, top_cats) in top_categories\n",
    "        for cat in top_cats\n",
    "            new_col_name = \"$(feature)_$(cat)\"\n",
    "            df[!, new_col_name] = df[!, feature] .== cat\n",
    "        end\n",
    "        select!(df, Not(Symbol(feature)))  # Drop the original feature column \n",
    "    end\n",
    "end\n",
    "\n",
    "\n",
    "one_hot_top_categories!(df, loaded_top_categories)"
   ]
  },
  {
   "cell_type": "code",
   "execution_count": 31,
   "metadata": {},
   "outputs": [
    {
     "data": {
      "text/plain": [
       "1413-element Vector{Union{Missing, Float64}}:\n",
       " 0.531043764945229\n",
       " 0.4903163876569154\n",
       " 0.33887493931860796\n",
       " 0.5853391011665144\n",
       " 0.4663625588733915\n",
       " 0.3650712129637893\n",
       " 0.33228876093708\n",
       " 0.42920581969476007\n",
       " 0.7200420756168442\n",
       " 0.5901079880090312\n",
       " ⋮\n",
       " 0.5305145739999522\n",
       " 0.49330302563080003\n",
       " 0.6226623840813286\n",
       " 0.56082724046062\n",
       " 0.4367230232743229\n",
       " 0.5689438204764994\n",
       " 0.48021193189259864\n",
       " 0.594499642900781\n",
       " 0.5600931748413881"
      ]
     },
     "metadata": {},
     "output_type": "display_data"
    }
   ],
   "source": [
    "# Load the saved model\n",
    "model = JLD2.load(PREDICTOR_FILE_PATH, \"model\")\n",
    "\n",
    "# Make predictions\n",
    "predictions = GLM.predict(model, df)"
   ]
  },
  {
   "cell_type": "code",
   "execution_count": 32,
   "metadata": {},
   "outputs": [
    {
     "data": {
      "text/plain": [
       "\"/Users/moo/Desktop/Upwork/rt-ML/Regression/Julia/Juila-Linear-Regression-Template/model_inputs_outputs/outputs/predictions/predictions.csv\""
      ]
     },
     "metadata": {},
     "output_type": "display_data"
    }
   ],
   "source": [
    "id_column_name = id_feature\n",
    "prediction_column_name = \"prediction\"\n",
    "# Create a DataFrame\n",
    "df = DataFrame()\n",
    "df[!, Symbol(id_column_name)] = ids\n",
    "df[!, Symbol(prediction_column_name)] = predictions\n",
    "\n",
    "# Save the DataFrame to a CSV file\n",
    "CSV.write(PREDICTIONS_FILE, df)"
   ]
  }
 ],
 "metadata": {
  "kernelspec": {
   "display_name": "Julia 1.9.3",
   "language": "julia",
   "name": "julia-1.9"
  },
  "language_info": {
   "file_extension": ".jl",
   "mimetype": "application/julia",
   "name": "julia",
   "version": "1.9.3"
  }
 },
 "nbformat": 4,
 "nbformat_minor": 4
}
