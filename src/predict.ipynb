{
 "cells": [
  {
   "cell_type": "markdown",
   "metadata": {},
   "source": [
    "## Imports"
   ]
  },
  {
   "cell_type": "code",
   "execution_count": 20,
   "metadata": {},
   "outputs": [],
   "source": [
    "# DO NOT CHANGE THESE LINES.\n",
    "using Suppressor\n",
    "@suppress begin\n",
    "    using DataFrames\n",
    "    using LazyJSON\n",
    "    using GLM \n",
    "    using MLJ \n",
    "    using MLJBase\n",
    "    using CSV\n",
    "    using Serialization\n",
    "    using MLJScientificTypes\n",
    "    using CategoricalArrays\n",
    "end\n"
   ]
  },
  {
   "cell_type": "markdown",
   "metadata": {},
   "source": [
    "## Paths"
   ]
  },
  {
   "cell_type": "code",
   "execution_count": 21,
   "metadata": {},
   "outputs": [],
   "source": [
    "# DO NOT CHANGE THESE LINES \n",
    "ROOT_DIR = dirname(pwd())\n",
    "MODEL_INPUTS_OUTPUTS = joinpath(ROOT_DIR, \"model_inputs_outputs\")\n",
    "INPUT_DIR = joinpath(MODEL_INPUTS_OUTPUTS, \"inputs\")\n",
    "INPUT_SCHEMA_DIR = joinpath(INPUT_DIR, \"schema\")\n",
    "DATA_DIR = joinpath(INPUT_DIR, \"data\")\n",
    "OUTPUT_DIR = joinpath(MODEL_INPUTS_OUTPUTS, \"outputs\")\n",
    "TRAIN_DIR = joinpath(DATA_DIR, \"training\")\n",
    "TEST_DIR = joinpath(DATA_DIR, \"testing\")\n",
    "MODEL_PATH = joinpath(MODEL_INPUTS_OUTPUTS, \"model\")\n",
    "MODEL_ARTIFACTS_PATH = joinpath(MODEL_PATH, \"artifacts\")\n",
    "OHE_ENCODER_FILE = joinpath(MODEL_ARTIFACTS_PATH, \"ohe.jld2\")\n",
    "PREDICTOR_DIR_PATH = joinpath(MODEL_ARTIFACTS_PATH, \"predictor\")\n",
    "PREDICTOR_FILE_PATH = joinpath(PREDICTOR_DIR_PATH, \"predictor.jld2\")\n",
    "IMPUTATION_FILE = joinpath(MODEL_ARTIFACTS_PATH, \"imputation.ser\")\n",
    "TOP_CATEGORIES = joinpath(MODEL_ARTIFACTS_PATH, \"top_categories.ser\")\n",
    "PREDICTIONS_DIR = joinpath(OUTPUT_DIR, \"predictions\")\n",
    "PREDICTIONS_FILE = joinpath(PREDICTIONS_DIR, \"predictions.csv\")\n",
    "\n",
    "\n",
    "if !isdir(MODEL_ARTIFACTS_PATH)\n",
    "    mkdir(MODEL_ARTIFACTS_PATH)\n",
    "end\n",
    "if !isdir(PREDICTOR_DIR_PATH)\n",
    "    mkdir(PREDICTOR_DIR_PATH)\n",
    "end"
   ]
  },
  {
   "cell_type": "markdown",
   "metadata": {},
   "source": [
    "### Reading the schema"
   ]
  },
  {
   "cell_type": "code",
   "execution_count": 22,
   "metadata": {},
   "outputs": [
    {
     "data": {
      "text/plain": [
       "\"SalePrice\""
      ]
     },
     "execution_count": 22,
     "metadata": {},
     "output_type": "execute_result"
    }
   ],
   "source": [
    "# Reading a schema from a JSON file and extracting features\n",
    "file_name = first(filter(x -> endswith(x, \"json\"), readdir(INPUT_SCHEMA_DIR)))\n",
    "schema_path = joinpath(INPUT_SCHEMA_DIR, file_name)\n",
    "schema_string = read(schema_path, String)  # Read file content as a string\n",
    "schema = LazyJSON.parse(schema_string)\n",
    "features = schema[\"features\"]\n",
    "\n",
    "# Identifying numeric, categorical, and nullable features\n",
    "numeric_features = String[]\n",
    "categorical_features = String[]\n",
    "nullable_features = String[]\n",
    "\n",
    "for f in features\n",
    "    if f[\"dataType\"] == \"CATEGORICAL\"\n",
    "        push!(categorical_features, f[\"name\"])\n",
    "    else\n",
    "        push!(numeric_features, f[\"name\"])\n",
    "    end\n",
    "    if f[\"nullable\"]\n",
    "        push!(nullable_features, f[\"name\"])\n",
    "    end\n",
    "end\n",
    "\n",
    "# Extracting ID and target features\n",
    "id_feature = schema[\"id\"][\"name\"]\n",
    "target_feature = schema[\"target\"][\"name\"]"
   ]
  },
  {
   "cell_type": "markdown",
   "metadata": {},
   "source": [
    "### Reading test data."
   ]
  },
  {
   "cell_type": "code",
   "execution_count": 23,
   "metadata": {},
   "outputs": [
    {
     "data": {
      "text/html": [
       "<div class=\"data-frame\"><p>292 rows × 80 columns (omitted printing of 72 columns)</p><table class=\"data-frame\"><thead><tr><th></th><th>Id</th><th>MSSubClass</th><th>MSZoning</th><th>LotFrontage</th><th>LotArea</th><th>Street</th><th>Alley</th><th>LotShape</th></tr><tr><th></th><th title=\"Int64\">Int64</th><th title=\"Int64\">Int64</th><th title=\"String7\">String7</th><th title=\"Union{Missing, Float64}\">Float64?</th><th title=\"Int64\">Int64</th><th title=\"String7\">String7</th><th title=\"Union{Missing, String7}\">String7?</th><th title=\"String3\">String3</th></tr></thead><tbody><tr><th>1</th><td>706</td><td>190</td><td>RM</td><td>70.0</td><td>5600</td><td>Pave</td><td><em>missing</em></td><td>Reg</td></tr><tr><th>2</th><td>39</td><td>20</td><td>RL</td><td>68.0</td><td>7922</td><td>Pave</td><td><em>missing</em></td><td>Reg</td></tr><tr><th>3</th><td>762</td><td>30</td><td>RM</td><td>60.0</td><td>6911</td><td>Pave</td><td><em>missing</em></td><td>Reg</td></tr><tr><th>4</th><td>105</td><td>50</td><td>RM</td><td><em>missing</em></td><td>7758</td><td>Pave</td><td><em>missing</em></td><td>Reg</td></tr><tr><th>5</th><td>347</td><td>20</td><td>RL</td><td><em>missing</em></td><td>12772</td><td>Pave</td><td><em>missing</em></td><td>IR1</td></tr><tr><th>6</th><td>135</td><td>20</td><td>RL</td><td>78.0</td><td>10335</td><td>Pave</td><td><em>missing</em></td><td>IR1</td></tr><tr><th>7</th><td>596</td><td>20</td><td>RL</td><td>69.0</td><td>11302</td><td>Pave</td><td><em>missing</em></td><td>IR1</td></tr><tr><th>8</th><td>1427</td><td>60</td><td>RL</td><td>81.0</td><td>10944</td><td>Pave</td><td><em>missing</em></td><td>IR1</td></tr><tr><th>9</th><td>52</td><td>50</td><td>RM</td><td>52.0</td><td>6240</td><td>Pave</td><td><em>missing</em></td><td>Reg</td></tr><tr><th>10</th><td>1366</td><td>60</td><td>FV</td><td><em>missing</em></td><td>7500</td><td>Pave</td><td><em>missing</em></td><td>Reg</td></tr><tr><th>11</th><td>1079</td><td>120</td><td>RM</td><td>37.0</td><td>4435</td><td>Pave</td><td><em>missing</em></td><td>Reg</td></tr><tr><th>12</th><td>631</td><td>70</td><td>RM</td><td>50.0</td><td>9000</td><td>Pave</td><td>Grvl</td><td>Reg</td></tr><tr><th>13</th><td>527</td><td>20</td><td>RL</td><td>70.0</td><td>13300</td><td>Pave</td><td><em>missing</em></td><td>Reg</td></tr><tr><th>14</th><td>1257</td><td>20</td><td>RL</td><td>91.0</td><td>14303</td><td>Pave</td><td><em>missing</em></td><td>IR1</td></tr><tr><th>15</th><td>686</td><td>160</td><td>RL</td><td><em>missing</em></td><td>5062</td><td>Pave</td><td><em>missing</em></td><td>IR1</td></tr><tr><th>16</th><td>304</td><td>20</td><td>RL</td><td>70.0</td><td>9800</td><td>Pave</td><td><em>missing</em></td><td>Reg</td></tr><tr><th>17</th><td>853</td><td>75</td><td>RL</td><td>53.0</td><td>7128</td><td>Pave</td><td><em>missing</em></td><td>Reg</td></tr><tr><th>18</th><td>1042</td><td>60</td><td>RL</td><td><em>missing</em></td><td>9130</td><td>Pave</td><td><em>missing</em></td><td>Reg</td></tr><tr><th>19</th><td>578</td><td>80</td><td>RL</td><td>96.0</td><td>11777</td><td>Pave</td><td><em>missing</em></td><td>IR1</td></tr><tr><th>20</th><td>390</td><td>60</td><td>RL</td><td>96.0</td><td>12474</td><td>Pave</td><td><em>missing</em></td><td>Reg</td></tr><tr><th>21</th><td>708</td><td>120</td><td>RL</td><td>48.0</td><td>6240</td><td>Pave</td><td><em>missing</em></td><td>Reg</td></tr><tr><th>22</th><td>892</td><td>60</td><td>RL</td><td>70.0</td><td>11184</td><td>Pave</td><td><em>missing</em></td><td>Reg</td></tr><tr><th>23</th><td>1040</td><td>180</td><td>RM</td><td>21.0</td><td>1477</td><td>Pave</td><td><em>missing</em></td><td>Reg</td></tr><tr><th>24</th><td>885</td><td>20</td><td>RL</td><td>65.0</td><td>7150</td><td>Pave</td><td><em>missing</em></td><td>Reg</td></tr><tr><th>25</th><td>418</td><td>70</td><td>RL</td><td>86.0</td><td>22420</td><td>Pave</td><td><em>missing</em></td><td>IR1</td></tr><tr><th>26</th><td>1428</td><td>50</td><td>RL</td><td>60.0</td><td>10930</td><td>Pave</td><td>Grvl</td><td>Reg</td></tr><tr><th>27</th><td>1234</td><td>20</td><td>RL</td><td><em>missing</em></td><td>12160</td><td>Pave</td><td><em>missing</em></td><td>IR1</td></tr><tr><th>28</th><td>81</td><td>60</td><td>RL</td><td>100.0</td><td>13000</td><td>Pave</td><td><em>missing</em></td><td>Reg</td></tr><tr><th>29</th><td>726</td><td>20</td><td>RL</td><td>60.0</td><td>6960</td><td>Pave</td><td><em>missing</em></td><td>Reg</td></tr><tr><th>30</th><td>111</td><td>50</td><td>RL</td><td>75.0</td><td>9525</td><td>Pave</td><td><em>missing</em></td><td>Reg</td></tr><tr><th>&vellip;</th><td>&vellip;</td><td>&vellip;</td><td>&vellip;</td><td>&vellip;</td><td>&vellip;</td><td>&vellip;</td><td>&vellip;</td><td>&vellip;</td></tr></tbody></table></div>"
      ],
      "text/latex": [
       "\\begin{tabular}{r|ccccccccc}\n",
       "\t& Id & MSSubClass & MSZoning & LotFrontage & LotArea & Street & Alley & LotShape & \\\\\n",
       "\t\\hline\n",
       "\t& Int64 & Int64 & String7 & Float64? & Int64 & String7 & String7? & String3 & \\\\\n",
       "\t\\hline\n",
       "\t1 & 706 & 190 & RM & 70.0 & 5600 & Pave & \\emph{missing} & Reg & $\\dots$ \\\\\n",
       "\t2 & 39 & 20 & RL & 68.0 & 7922 & Pave & \\emph{missing} & Reg & $\\dots$ \\\\\n",
       "\t3 & 762 & 30 & RM & 60.0 & 6911 & Pave & \\emph{missing} & Reg & $\\dots$ \\\\\n",
       "\t4 & 105 & 50 & RM & \\emph{missing} & 7758 & Pave & \\emph{missing} & Reg & $\\dots$ \\\\\n",
       "\t5 & 347 & 20 & RL & \\emph{missing} & 12772 & Pave & \\emph{missing} & IR1 & $\\dots$ \\\\\n",
       "\t6 & 135 & 20 & RL & 78.0 & 10335 & Pave & \\emph{missing} & IR1 & $\\dots$ \\\\\n",
       "\t7 & 596 & 20 & RL & 69.0 & 11302 & Pave & \\emph{missing} & IR1 & $\\dots$ \\\\\n",
       "\t8 & 1427 & 60 & RL & 81.0 & 10944 & Pave & \\emph{missing} & IR1 & $\\dots$ \\\\\n",
       "\t9 & 52 & 50 & RM & 52.0 & 6240 & Pave & \\emph{missing} & Reg & $\\dots$ \\\\\n",
       "\t10 & 1366 & 60 & FV & \\emph{missing} & 7500 & Pave & \\emph{missing} & Reg & $\\dots$ \\\\\n",
       "\t11 & 1079 & 120 & RM & 37.0 & 4435 & Pave & \\emph{missing} & Reg & $\\dots$ \\\\\n",
       "\t12 & 631 & 70 & RM & 50.0 & 9000 & Pave & Grvl & Reg & $\\dots$ \\\\\n",
       "\t13 & 527 & 20 & RL & 70.0 & 13300 & Pave & \\emph{missing} & Reg & $\\dots$ \\\\\n",
       "\t14 & 1257 & 20 & RL & 91.0 & 14303 & Pave & \\emph{missing} & IR1 & $\\dots$ \\\\\n",
       "\t15 & 686 & 160 & RL & \\emph{missing} & 5062 & Pave & \\emph{missing} & IR1 & $\\dots$ \\\\\n",
       "\t16 & 304 & 20 & RL & 70.0 & 9800 & Pave & \\emph{missing} & Reg & $\\dots$ \\\\\n",
       "\t17 & 853 & 75 & RL & 53.0 & 7128 & Pave & \\emph{missing} & Reg & $\\dots$ \\\\\n",
       "\t18 & 1042 & 60 & RL & \\emph{missing} & 9130 & Pave & \\emph{missing} & Reg & $\\dots$ \\\\\n",
       "\t19 & 578 & 80 & RL & 96.0 & 11777 & Pave & \\emph{missing} & IR1 & $\\dots$ \\\\\n",
       "\t20 & 390 & 60 & RL & 96.0 & 12474 & Pave & \\emph{missing} & Reg & $\\dots$ \\\\\n",
       "\t21 & 708 & 120 & RL & 48.0 & 6240 & Pave & \\emph{missing} & Reg & $\\dots$ \\\\\n",
       "\t22 & 892 & 60 & RL & 70.0 & 11184 & Pave & \\emph{missing} & Reg & $\\dots$ \\\\\n",
       "\t23 & 1040 & 180 & RM & 21.0 & 1477 & Pave & \\emph{missing} & Reg & $\\dots$ \\\\\n",
       "\t24 & 885 & 20 & RL & 65.0 & 7150 & Pave & \\emph{missing} & Reg & $\\dots$ \\\\\n",
       "\t25 & 418 & 70 & RL & 86.0 & 22420 & Pave & \\emph{missing} & IR1 & $\\dots$ \\\\\n",
       "\t26 & 1428 & 50 & RL & 60.0 & 10930 & Pave & Grvl & Reg & $\\dots$ \\\\\n",
       "\t27 & 1234 & 20 & RL & \\emph{missing} & 12160 & Pave & \\emph{missing} & IR1 & $\\dots$ \\\\\n",
       "\t28 & 81 & 60 & RL & 100.0 & 13000 & Pave & \\emph{missing} & Reg & $\\dots$ \\\\\n",
       "\t29 & 726 & 20 & RL & 60.0 & 6960 & Pave & \\emph{missing} & Reg & $\\dots$ \\\\\n",
       "\t30 & 111 & 50 & RL & 75.0 & 9525 & Pave & \\emph{missing} & Reg & $\\dots$ \\\\\n",
       "\t$\\dots$ & $\\dots$ & $\\dots$ & $\\dots$ & $\\dots$ & $\\dots$ & $\\dots$ & $\\dots$ & $\\dots$ &  \\\\\n",
       "\\end{tabular}\n"
      ],
      "text/plain": [
       "\u001b[1m292×80 DataFrame\u001b[0m\n",
       "\u001b[1m Row \u001b[0m│\u001b[1m Id    \u001b[0m\u001b[1m MSSubClass \u001b[0m\u001b[1m MSZoning \u001b[0m\u001b[1m LotFrontage \u001b[0m\u001b[1m LotArea \u001b[0m\u001b[1m Street  \u001b[0m\u001b[1m Alley    \u001b[0m\u001b[1m L\u001b[0m ⋯\n",
       "\u001b[1m     \u001b[0m│\u001b[90m Int64 \u001b[0m\u001b[90m Int64      \u001b[0m\u001b[90m String7  \u001b[0m\u001b[90m Float64?    \u001b[0m\u001b[90m Int64   \u001b[0m\u001b[90m String7 \u001b[0m\u001b[90m String7? \u001b[0m\u001b[90m S\u001b[0m ⋯\n",
       "─────┼──────────────────────────────────────────────────────────────────────────\n",
       "   1 │   706         190  RM               70.0     5600  Pave    \u001b[90m missing  \u001b[0m R ⋯\n",
       "   2 │    39          20  RL               68.0     7922  Pave    \u001b[90m missing  \u001b[0m R\n",
       "   3 │   762          30  RM               60.0     6911  Pave    \u001b[90m missing  \u001b[0m R\n",
       "   4 │   105          50  RM       \u001b[90m   missing   \u001b[0m    7758  Pave    \u001b[90m missing  \u001b[0m R\n",
       "   5 │   347          20  RL       \u001b[90m   missing   \u001b[0m   12772  Pave    \u001b[90m missing  \u001b[0m I ⋯\n",
       "   6 │   135          20  RL               78.0    10335  Pave    \u001b[90m missing  \u001b[0m I\n",
       "   7 │   596          20  RL               69.0    11302  Pave    \u001b[90m missing  \u001b[0m I\n",
       "   8 │  1427          60  RL               81.0    10944  Pave    \u001b[90m missing  \u001b[0m I\n",
       "   9 │    52          50  RM               52.0     6240  Pave    \u001b[90m missing  \u001b[0m R ⋯\n",
       "  10 │  1366          60  FV       \u001b[90m   missing   \u001b[0m    7500  Pave    \u001b[90m missing  \u001b[0m R\n",
       "  11 │  1079         120  RM               37.0     4435  Pave    \u001b[90m missing  \u001b[0m R\n",
       "  ⋮  │   ⋮        ⋮          ⋮           ⋮          ⋮        ⋮        ⋮        ⋱\n",
       " 283 │   388          80  RL               72.0     7200  Pave    \u001b[90m missing  \u001b[0m R\n",
       " 284 │    89          50  C (all)         105.0     8470  Pave    \u001b[90m missing  \u001b[0m I ⋯\n",
       " 285 │   265          30  RM               30.0     5232  Pave     Grvl      I\n",
       " 286 │   267          60  RL               70.0    11207  Pave    \u001b[90m missing  \u001b[0m I\n",
       " 287 │     9          50  RM               51.0     6120  Pave    \u001b[90m missing  \u001b[0m R\n",
       " 288 │  1205          20  RL               78.0    10140  Pave    \u001b[90m missing  \u001b[0m R ⋯\n",
       " 289 │  1148          70  RL               75.0    12000  Pave    \u001b[90m missing  \u001b[0m R\n",
       " 290 │   874          40  RL               60.0    12144  Pave    \u001b[90m missing  \u001b[0m R\n",
       " 291 │   959          20  RL               65.0     8450  Pave    \u001b[90m missing  \u001b[0m R\n",
       " 292 │    32          20  RL       \u001b[90m   missing   \u001b[0m    8544  Pave    \u001b[90m missing  \u001b[0m I ⋯\n",
       "\u001b[36m                                                 73 columns and 271 rows omitted\u001b[0m"
      ]
     },
     "execution_count": 23,
     "metadata": {},
     "output_type": "execute_result"
    }
   ],
   "source": [
    "file_name = filter(x -> occursin(\".csv\", x), readdir(TEST_DIR))[1]\n",
    "file_path = joinpath(TEST_DIR, file_name)\n",
    "df = DataFrame(CSV.File(file_path))"
   ]
  },
  {
   "cell_type": "markdown",
   "metadata": {},
   "source": [
    "## Data preprocessing\n",
    "Note that when we work with testing data, we have to impute using the same values learned during training. This is to avoid data leakage."
   ]
  },
  {
   "cell_type": "code",
   "execution_count": 24,
   "metadata": {},
   "outputs": [
    {
     "data": {
      "text/html": [
       "<div class=\"data-frame\"><p>292 rows × 79 columns (omitted printing of 71 columns)</p><table class=\"data-frame\"><thead><tr><th></th><th>MSSubClass</th><th>MSZoning</th><th>LotFrontage</th><th>LotArea</th><th>Street</th><th>Alley</th><th>LotShape</th><th>LandContour</th></tr><tr><th></th><th title=\"Int64\">Int64</th><th title=\"String7\">String7</th><th title=\"Float64\">Float64</th><th title=\"Int64\">Int64</th><th title=\"String7\">String7</th><th title=\"String7\">String7</th><th title=\"String3\">String3</th><th title=\"String3\">String3</th></tr></thead><tbody><tr><th>1</th><td>190</td><td>RM</td><td>70.0</td><td>5600</td><td>Pave</td><td>Grvl</td><td>Reg</td><td>Lvl</td></tr><tr><th>2</th><td>20</td><td>RL</td><td>68.0</td><td>7922</td><td>Pave</td><td>Grvl</td><td>Reg</td><td>Lvl</td></tr><tr><th>3</th><td>30</td><td>RM</td><td>60.0</td><td>6911</td><td>Pave</td><td>Grvl</td><td>Reg</td><td>Lvl</td></tr><tr><th>4</th><td>50</td><td>RM</td><td>69.5</td><td>7758</td><td>Pave</td><td>Grvl</td><td>Reg</td><td>Lvl</td></tr><tr><th>5</th><td>20</td><td>RL</td><td>69.5</td><td>12772</td><td>Pave</td><td>Grvl</td><td>IR1</td><td>Lvl</td></tr><tr><th>6</th><td>20</td><td>RL</td><td>78.0</td><td>10335</td><td>Pave</td><td>Grvl</td><td>IR1</td><td>Lvl</td></tr><tr><th>7</th><td>20</td><td>RL</td><td>69.0</td><td>11302</td><td>Pave</td><td>Grvl</td><td>IR1</td><td>Lvl</td></tr><tr><th>8</th><td>60</td><td>RL</td><td>81.0</td><td>10944</td><td>Pave</td><td>Grvl</td><td>IR1</td><td>Lvl</td></tr><tr><th>9</th><td>50</td><td>RM</td><td>52.0</td><td>6240</td><td>Pave</td><td>Grvl</td><td>Reg</td><td>Lvl</td></tr><tr><th>10</th><td>60</td><td>FV</td><td>69.5</td><td>7500</td><td>Pave</td><td>Grvl</td><td>Reg</td><td>Lvl</td></tr><tr><th>11</th><td>120</td><td>RM</td><td>37.0</td><td>4435</td><td>Pave</td><td>Grvl</td><td>Reg</td><td>Lvl</td></tr><tr><th>12</th><td>70</td><td>RM</td><td>50.0</td><td>9000</td><td>Pave</td><td>Grvl</td><td>Reg</td><td>Lvl</td></tr><tr><th>13</th><td>20</td><td>RL</td><td>70.0</td><td>13300</td><td>Pave</td><td>Grvl</td><td>Reg</td><td>Lvl</td></tr><tr><th>14</th><td>20</td><td>RL</td><td>91.0</td><td>14303</td><td>Pave</td><td>Grvl</td><td>IR1</td><td>Lvl</td></tr><tr><th>15</th><td>160</td><td>RL</td><td>69.5</td><td>5062</td><td>Pave</td><td>Grvl</td><td>IR1</td><td>Lvl</td></tr><tr><th>16</th><td>20</td><td>RL</td><td>70.0</td><td>9800</td><td>Pave</td><td>Grvl</td><td>Reg</td><td>Lvl</td></tr><tr><th>17</th><td>75</td><td>RL</td><td>53.0</td><td>7128</td><td>Pave</td><td>Grvl</td><td>Reg</td><td>Lvl</td></tr><tr><th>18</th><td>60</td><td>RL</td><td>69.5</td><td>9130</td><td>Pave</td><td>Grvl</td><td>Reg</td><td>Lvl</td></tr><tr><th>19</th><td>80</td><td>RL</td><td>96.0</td><td>11777</td><td>Pave</td><td>Grvl</td><td>IR1</td><td>Lvl</td></tr><tr><th>20</th><td>60</td><td>RL</td><td>96.0</td><td>12474</td><td>Pave</td><td>Grvl</td><td>Reg</td><td>Lvl</td></tr><tr><th>21</th><td>120</td><td>RL</td><td>48.0</td><td>6240</td><td>Pave</td><td>Grvl</td><td>Reg</td><td>Lvl</td></tr><tr><th>22</th><td>60</td><td>RL</td><td>70.0</td><td>11184</td><td>Pave</td><td>Grvl</td><td>Reg</td><td>Lvl</td></tr><tr><th>23</th><td>180</td><td>RM</td><td>21.0</td><td>1477</td><td>Pave</td><td>Grvl</td><td>Reg</td><td>Lvl</td></tr><tr><th>24</th><td>20</td><td>RL</td><td>65.0</td><td>7150</td><td>Pave</td><td>Grvl</td><td>Reg</td><td>Lvl</td></tr><tr><th>25</th><td>70</td><td>RL</td><td>86.0</td><td>22420</td><td>Pave</td><td>Grvl</td><td>IR1</td><td>Lvl</td></tr><tr><th>26</th><td>50</td><td>RL</td><td>60.0</td><td>10930</td><td>Pave</td><td>Grvl</td><td>Reg</td><td>Bnk</td></tr><tr><th>27</th><td>20</td><td>RL</td><td>69.5</td><td>12160</td><td>Pave</td><td>Grvl</td><td>IR1</td><td>Lvl</td></tr><tr><th>28</th><td>60</td><td>RL</td><td>100.0</td><td>13000</td><td>Pave</td><td>Grvl</td><td>Reg</td><td>Lvl</td></tr><tr><th>29</th><td>20</td><td>RL</td><td>60.0</td><td>6960</td><td>Pave</td><td>Grvl</td><td>Reg</td><td>Lvl</td></tr><tr><th>30</th><td>50</td><td>RL</td><td>75.0</td><td>9525</td><td>Pave</td><td>Grvl</td><td>Reg</td><td>Lvl</td></tr><tr><th>&vellip;</th><td>&vellip;</td><td>&vellip;</td><td>&vellip;</td><td>&vellip;</td><td>&vellip;</td><td>&vellip;</td><td>&vellip;</td><td>&vellip;</td></tr></tbody></table></div>"
      ],
      "text/latex": [
       "\\begin{tabular}{r|ccccccccc}\n",
       "\t& MSSubClass & MSZoning & LotFrontage & LotArea & Street & Alley & LotShape & LandContour & \\\\\n",
       "\t\\hline\n",
       "\t& Int64 & String7 & Float64 & Int64 & String7 & String7 & String3 & String3 & \\\\\n",
       "\t\\hline\n",
       "\t1 & 190 & RM & 70.0 & 5600 & Pave & Grvl & Reg & Lvl & $\\dots$ \\\\\n",
       "\t2 & 20 & RL & 68.0 & 7922 & Pave & Grvl & Reg & Lvl & $\\dots$ \\\\\n",
       "\t3 & 30 & RM & 60.0 & 6911 & Pave & Grvl & Reg & Lvl & $\\dots$ \\\\\n",
       "\t4 & 50 & RM & 69.5 & 7758 & Pave & Grvl & Reg & Lvl & $\\dots$ \\\\\n",
       "\t5 & 20 & RL & 69.5 & 12772 & Pave & Grvl & IR1 & Lvl & $\\dots$ \\\\\n",
       "\t6 & 20 & RL & 78.0 & 10335 & Pave & Grvl & IR1 & Lvl & $\\dots$ \\\\\n",
       "\t7 & 20 & RL & 69.0 & 11302 & Pave & Grvl & IR1 & Lvl & $\\dots$ \\\\\n",
       "\t8 & 60 & RL & 81.0 & 10944 & Pave & Grvl & IR1 & Lvl & $\\dots$ \\\\\n",
       "\t9 & 50 & RM & 52.0 & 6240 & Pave & Grvl & Reg & Lvl & $\\dots$ \\\\\n",
       "\t10 & 60 & FV & 69.5 & 7500 & Pave & Grvl & Reg & Lvl & $\\dots$ \\\\\n",
       "\t11 & 120 & RM & 37.0 & 4435 & Pave & Grvl & Reg & Lvl & $\\dots$ \\\\\n",
       "\t12 & 70 & RM & 50.0 & 9000 & Pave & Grvl & Reg & Lvl & $\\dots$ \\\\\n",
       "\t13 & 20 & RL & 70.0 & 13300 & Pave & Grvl & Reg & Lvl & $\\dots$ \\\\\n",
       "\t14 & 20 & RL & 91.0 & 14303 & Pave & Grvl & IR1 & Lvl & $\\dots$ \\\\\n",
       "\t15 & 160 & RL & 69.5 & 5062 & Pave & Grvl & IR1 & Lvl & $\\dots$ \\\\\n",
       "\t16 & 20 & RL & 70.0 & 9800 & Pave & Grvl & Reg & Lvl & $\\dots$ \\\\\n",
       "\t17 & 75 & RL & 53.0 & 7128 & Pave & Grvl & Reg & Lvl & $\\dots$ \\\\\n",
       "\t18 & 60 & RL & 69.5 & 9130 & Pave & Grvl & Reg & Lvl & $\\dots$ \\\\\n",
       "\t19 & 80 & RL & 96.0 & 11777 & Pave & Grvl & IR1 & Lvl & $\\dots$ \\\\\n",
       "\t20 & 60 & RL & 96.0 & 12474 & Pave & Grvl & Reg & Lvl & $\\dots$ \\\\\n",
       "\t21 & 120 & RL & 48.0 & 6240 & Pave & Grvl & Reg & Lvl & $\\dots$ \\\\\n",
       "\t22 & 60 & RL & 70.0 & 11184 & Pave & Grvl & Reg & Lvl & $\\dots$ \\\\\n",
       "\t23 & 180 & RM & 21.0 & 1477 & Pave & Grvl & Reg & Lvl & $\\dots$ \\\\\n",
       "\t24 & 20 & RL & 65.0 & 7150 & Pave & Grvl & Reg & Lvl & $\\dots$ \\\\\n",
       "\t25 & 70 & RL & 86.0 & 22420 & Pave & Grvl & IR1 & Lvl & $\\dots$ \\\\\n",
       "\t26 & 50 & RL & 60.0 & 10930 & Pave & Grvl & Reg & Bnk & $\\dots$ \\\\\n",
       "\t27 & 20 & RL & 69.5 & 12160 & Pave & Grvl & IR1 & Lvl & $\\dots$ \\\\\n",
       "\t28 & 60 & RL & 100.0 & 13000 & Pave & Grvl & Reg & Lvl & $\\dots$ \\\\\n",
       "\t29 & 20 & RL & 60.0 & 6960 & Pave & Grvl & Reg & Lvl & $\\dots$ \\\\\n",
       "\t30 & 50 & RL & 75.0 & 9525 & Pave & Grvl & Reg & Lvl & $\\dots$ \\\\\n",
       "\t$\\dots$ & $\\dots$ & $\\dots$ & $\\dots$ & $\\dots$ & $\\dots$ & $\\dots$ & $\\dots$ & $\\dots$ &  \\\\\n",
       "\\end{tabular}\n"
      ],
      "text/plain": [
       "\u001b[1m292×79 DataFrame\u001b[0m\n",
       "\u001b[1m Row \u001b[0m│\u001b[1m MSSubClass \u001b[0m\u001b[1m MSZoning \u001b[0m\u001b[1m LotFrontage \u001b[0m\u001b[1m LotArea \u001b[0m\u001b[1m Street  \u001b[0m\u001b[1m Alley   \u001b[0m\u001b[1m LotShape \u001b[0m\u001b[1m\u001b[0m ⋯\n",
       "\u001b[1m     \u001b[0m│\u001b[90m Int64      \u001b[0m\u001b[90m String7  \u001b[0m\u001b[90m Float64     \u001b[0m\u001b[90m Int64   \u001b[0m\u001b[90m String7 \u001b[0m\u001b[90m String7 \u001b[0m\u001b[90m String3  \u001b[0m\u001b[90m\u001b[0m ⋯\n",
       "─────┼──────────────────────────────────────────────────────────────────────────\n",
       "   1 │        190  RM               70.0     5600  Pave     Grvl     Reg       ⋯\n",
       "   2 │         20  RL               68.0     7922  Pave     Grvl     Reg\n",
       "   3 │         30  RM               60.0     6911  Pave     Grvl     Reg\n",
       "   4 │         50  RM               69.5     7758  Pave     Grvl     Reg\n",
       "   5 │         20  RL               69.5    12772  Pave     Grvl     IR1       ⋯\n",
       "   6 │         20  RL               78.0    10335  Pave     Grvl     IR1\n",
       "   7 │         20  RL               69.0    11302  Pave     Grvl     IR1\n",
       "   8 │         60  RL               81.0    10944  Pave     Grvl     IR1\n",
       "   9 │         50  RM               52.0     6240  Pave     Grvl     Reg       ⋯\n",
       "  10 │         60  FV               69.5     7500  Pave     Grvl     Reg\n",
       "  11 │        120  RM               37.0     4435  Pave     Grvl     Reg\n",
       "  ⋮  │     ⋮          ⋮           ⋮          ⋮        ⋮        ⋮        ⋮      ⋱\n",
       " 283 │         80  RL               72.0     7200  Pave     Grvl     Reg\n",
       " 284 │         50  C (all)         105.0     8470  Pave     Grvl     IR1       ⋯\n",
       " 285 │         30  RM               30.0     5232  Pave     Grvl     IR3\n",
       " 286 │         60  RL               70.0    11207  Pave     Grvl     IR1\n",
       " 287 │         50  RM               51.0     6120  Pave     Grvl     Reg\n",
       " 288 │         20  RL               78.0    10140  Pave     Grvl     Reg       ⋯\n",
       " 289 │         70  RL               75.0    12000  Pave     Grvl     Reg\n",
       " 290 │         40  RL               60.0    12144  Pave     Grvl     Reg\n",
       " 291 │         20  RL               65.0     8450  Pave     Grvl     Reg\n",
       " 292 │         20  RL               69.5     8544  Pave     Grvl     IR1       ⋯\n",
       "\u001b[36m                                                 72 columns and 271 rows omitted\u001b[0m"
      ]
     },
     "execution_count": 24,
     "metadata": {},
     "output_type": "execute_result"
    }
   ],
   "source": [
    "imputation_values = open(deserialize, IMPUTATION_FILE)\n",
    "for column in nullable_features\n",
    "    df[!, Symbol(column)] .= coalesce.(df[!, Symbol(column)], get(imputation_values, string(column), missing))\n",
    "end\n",
    "\n",
    "# Saving the id column in a different variable\n",
    "ids = df[!, Symbol(id_feature)]\n",
    "\n",
    "# Dropping the id and target from the DataFrame\n",
    "select!(df, Not([Symbol(id_feature)]))"
   ]
  },
  {
   "cell_type": "markdown",
   "metadata": {},
   "source": [
    "### Encoding\n",
    "We encode the data using the same encoder that we saved during training."
   ]
  },
  {
   "cell_type": "code",
   "execution_count": 25,
   "metadata": {},
   "outputs": [],
   "source": [
    "loaded_top_categories = open(deserialize, TOP_CATEGORIES)\n",
    "\n",
    "# Function to one-hot encode only the top 10 categories\n",
    "function one_hot_top_categories!(df, top_categories)\n",
    "    for (feature, top_cats) in top_categories\n",
    "        if length(top_cats) == 2  # Handle the binary case\n",
    "            # Assuming the first category in top_cats is treated as 'true'\n",
    "            new_col_name = \"$(feature)_binary\"\n",
    "            df[!, new_col_name] = df[!, feature] .== top_cats[1]\n",
    "        else  # Handle the general case\n",
    "            for cat in top_cats\n",
    "                new_col_name = \"$(feature)_$(cat)\"\n",
    "                df[!, new_col_name] = df[!, feature] .== cat\n",
    "            end\n",
    "        end\n",
    "        select!(df, Not(Symbol(feature)))  # Drop the original feature column\n",
    "    end\n",
    "end\n",
    "\n",
    "one_hot_top_categories!(df, loaded_top_categories)"
   ]
  },
  {
   "cell_type": "markdown",
   "metadata": {},
   "source": [
    "### Making predictions\n",
    "Using the model saved during training."
   ]
  },
  {
   "cell_type": "code",
   "execution_count": 27,
   "metadata": {},
   "outputs": [
    {
     "data": {
      "text/plain": [
       "292-element Vector{Union{Missing, Float64}}:\n",
       " -26934.43077931663\n",
       " 137729.82041489254\n",
       " 105841.82598461382\n",
       " 192870.39910569758\n",
       "  23759.281190360583\n",
       " 169831.6483953199\n",
       " 308696.0984100826\n",
       " 263527.73482309363\n",
       " 119748.25629049577\n",
       " 214912.81537891482\n",
       " 125803.20557638997\n",
       " 121904.61717094912\n",
       " 122185.21136286343\n",
       "      ⋮\n",
       " 159888.79969365234\n",
       " 146138.75469297275\n",
       " 126088.8159643489\n",
       "  10821.005085433317\n",
       "  28237.596302486716\n",
       " 197633.43422867116\n",
       " 135587.06054263358\n",
       " 138696.63932536042\n",
       " 167072.29511288772\n",
       "  59889.020598648305\n",
       " 191091.3627131496\n",
       " 148348.7847185513"
      ]
     },
     "execution_count": 27,
     "metadata": {},
     "output_type": "execute_result"
    }
   ],
   "source": [
    "# Load the saved model\n",
    "model = open(deserialize, PREDICTOR_FILE_PATH)\n",
    "\n",
    "# Make predictions\n",
    "predictions = GLM.predict(model, df)"
   ]
  },
  {
   "cell_type": "markdown",
   "metadata": {},
   "source": [
    "### Creating predictions DataFrame."
   ]
  },
  {
   "cell_type": "code",
   "execution_count": 28,
   "metadata": {},
   "outputs": [
    {
     "data": {
      "text/plain": [
       "\"/Users/moo/Desktop/Upwork/rt-ML/Julia/Juila-Linear-Regression-Template/model_inputs_outputs/outputs/predictions/predictions.csv\""
      ]
     },
     "execution_count": 28,
     "metadata": {},
     "output_type": "execute_result"
    }
   ],
   "source": [
    "id_column_name = id_feature\n",
    "prediction_column_name = \"prediction\"\n",
    "# Create a DataFrame\n",
    "df = DataFrame()\n",
    "df[!, Symbol(id_column_name)] = ids\n",
    "df[!, Symbol(prediction_column_name)] = predictions\n",
    "\n",
    "# Save the DataFrame to a CSV file\n",
    "CSV.write(PREDICTIONS_FILE, df)"
   ]
  },
  {
   "cell_type": "code",
   "execution_count": null,
   "metadata": {},
   "outputs": [],
   "source": []
  }
 ],
 "metadata": {
  "kernelspec": {
   "display_name": "Julia 1.9.3",
   "language": "julia",
   "name": "julia-1.9"
  },
  "language_info": {
   "file_extension": ".jl",
   "mimetype": "application/julia",
   "name": "julia",
   "version": "1.9.3"
  }
 },
 "nbformat": 4,
 "nbformat_minor": 4
}
