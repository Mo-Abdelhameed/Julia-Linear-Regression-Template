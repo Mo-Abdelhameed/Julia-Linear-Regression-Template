{
 "cells": [
  {
   "cell_type": "code",
   "execution_count": 11,
   "metadata": {},
   "outputs": [],
   "source": [
    "using Suppressor\n",
    "@suppress begin\n",
    "    using DataFrames\n",
    "    using LazyJSON\n",
    "    using GLM \n",
    "    using MLJ \n",
    "    using MLJBase\n",
    "    using CSV\n",
    "    using Serialization\n",
    "    using MLJScientificTypes\n",
    "    using CategoricalArrays\n",
    "    using JLD2\n",
    "end\n"
   ]
  },
  {
   "cell_type": "code",
   "execution_count": 12,
   "metadata": {},
   "outputs": [],
   "source": [
    "# Setting up directories\n",
    "ROOT_DIR = dirname(pwd())\n",
    "# Setting up directory and file paths\n",
    "MODEL_INPUTS_OUTPUTS = joinpath(ROOT_DIR, \"model_inputs_outputs\")\n",
    "INPUT_DIR = joinpath(MODEL_INPUTS_OUTPUTS, \"inputs\")\n",
    "INPUT_SCHEMA_DIR = joinpath(INPUT_DIR, \"schema\")\n",
    "DATA_DIR = joinpath(INPUT_DIR, \"data\")\n",
    "OUTPUT_DIR = joinpath(MODEL_INPUTS_OUTPUTS, \"outputs\")\n",
    "TRAIN_DIR = joinpath(DATA_DIR, \"training\")\n",
    "TEST_DIR = joinpath(DATA_DIR, \"testing\")\n",
    "MODEL_PATH = joinpath(MODEL_INPUTS_OUTPUTS, \"model\")\n",
    "MODEL_ARTIFACTS_PATH = joinpath(MODEL_PATH, \"artifacts\")\n",
    "OHE_ENCODER_FILE = joinpath(MODEL_ARTIFACTS_PATH, \"ohe.jld2\")\n",
    "PREDICTOR_DIR_PATH = joinpath(MODEL_ARTIFACTS_PATH, \"predictor\")\n",
    "PREDICTOR_FILE_PATH = joinpath(PREDICTOR_DIR_PATH, \"predictor.jld2\")\n",
    "IMPUTATION_FILE = joinpath(MODEL_ARTIFACTS_PATH, \"imputation.ser\")\n",
    "TOP_CATEGORIES = joinpath(MODEL_ARTIFACTS_PATH, \"top_categories.ser\")\n",
    "PREDICTIONS_DIR = joinpath(OUTPUT_DIR, \"predictions\")\n",
    "PREDICTIONS_FILE = joinpath(PREDICTIONS_DIR, \"predictions.csv\")\n",
    "\n",
    "\n",
    "if !isdir(MODEL_ARTIFACTS_PATH)\n",
    "    mkdir(MODEL_ARTIFACTS_PATH)\n",
    "end\n",
    "if !isdir(PREDICTOR_DIR_PATH)\n",
    "    mkdir(PREDICTOR_DIR_PATH)\n",
    "end"
   ]
  },
  {
   "cell_type": "code",
   "execution_count": 13,
   "metadata": {},
   "outputs": [
    {
     "data": {
      "text/plain": [
       "\"danceability\""
      ]
     },
     "metadata": {},
     "output_type": "display_data"
    }
   ],
   "source": [
    "# Reading a schema from a JSON file and extracting features\n",
    "file_name = first(filter(x -> endswith(x, \"json\"), readdir(INPUT_SCHEMA_DIR)))\n",
    "schema_path = joinpath(INPUT_SCHEMA_DIR, file_name)\n",
    "schema_string = read(schema_path, String)  # Read file content as a string\n",
    "schema = LazyJSON.parse(schema_string)\n",
    "features = schema[\"features\"]\n",
    "\n",
    "# Identifying numeric, categorical, and nullable features\n",
    "numeric_features = String[]\n",
    "categorical_features = String[]\n",
    "nullable_features = String[]\n",
    "\n",
    "for f in features\n",
    "    if f[\"dataType\"] == \"CATEGORICAL\"\n",
    "        push!(categorical_features, f[\"name\"])\n",
    "    else\n",
    "        push!(numeric_features, f[\"name\"])\n",
    "    end\n",
    "    if f[\"nullable\"]\n",
    "        push!(nullable_features, f[\"name\"])\n",
    "    end\n",
    "end\n",
    "\n",
    "# Extracting ID and target features\n",
    "id_feature = schema[\"id\"][\"name\"]\n",
    "target_feature = schema[\"target\"][\"name\"]"
   ]
  },
  {
   "cell_type": "code",
   "execution_count": 14,
   "metadata": {},
   "outputs": [
    {
     "data": {
      "text/html": [
       "<div class=\"data-frame\"><p>1,786 rows × 19 columns (omitted printing of 12 columns)</p><table class=\"data-frame\"><thead><tr><th></th><th>id</th><th>energy</th><th>key</th><th>loudness</th><th>mode</th><th>speechiness</th><th>acousticness</th></tr><tr><th></th><th title=\"String31\">String31</th><th title=\"Float64\">Float64</th><th title=\"Int64\">Int64</th><th title=\"Float64\">Float64</th><th title=\"Int64\">Int64</th><th title=\"Float64\">Float64</th><th title=\"Float64\">Float64</th></tr></thead><tbody><tr><th>1</th><td>355kXbXrCIdm27pjd4fncE</td><td>0.652</td><td>4</td><td>-11.707</td><td>1</td><td>0.0374</td><td>0.523</td></tr><tr><th>2</th><td>5t8M1Ktl6TkrAAKVmYlc3E</td><td>0.856</td><td>11</td><td>-4.669</td><td>1</td><td>0.0421</td><td>0.00715</td></tr><tr><th>3</th><td>6pYKIB7l7bLqObaJlmKIyc</td><td>0.68</td><td>0</td><td>-14.698</td><td>0</td><td>0.0547</td><td>0.0246</td></tr><tr><th>4</th><td>1jtJDYwDAg2FZBiLTd5GJO</td><td>0.389</td><td>9</td><td>-13.75</td><td>1</td><td>0.0255</td><td>0.0727</td></tr><tr><th>5</th><td>11gI5uqSKvwquuoKHPH99V</td><td>0.662</td><td>10</td><td>-7.829</td><td>0</td><td>0.0463</td><td>0.0267</td></tr><tr><th>6</th><td>5yuMx81o4yhOQ0LDAI3CV3</td><td>0.264</td><td>2</td><td>-13.512</td><td>1</td><td>0.0387</td><td>0.737</td></tr><tr><th>7</th><td>5xMeshTXi4stt1EBhwdtyW</td><td>0.527</td><td>8</td><td>-8.028</td><td>0</td><td>0.055</td><td>0.455</td></tr><tr><th>8</th><td>1W8EyUzQPkVyGtAkCg1HqS</td><td>0.342</td><td>1</td><td>-10.514</td><td>1</td><td>0.0269</td><td>0.794</td></tr><tr><th>9</th><td>5JOrWjFDzatQ1ycDJ3Tybu</td><td>0.526</td><td>0</td><td>-5.825</td><td>1</td><td>0.0407</td><td>0.323</td></tr><tr><th>10</th><td>63LiOsvf1w1DSbmjbxjh4b</td><td>0.797</td><td>7</td><td>-6.627</td><td>1</td><td>0.152</td><td>0.00257</td></tr><tr><th>11</th><td>7hnliM9hOmlNquI3igGM6d</td><td>0.638</td><td>7</td><td>-5.629</td><td>1</td><td>0.0226</td><td>0.121</td></tr><tr><th>12</th><td>1vRS1RUQMy8HtPsdY7CLIG</td><td>0.479</td><td>1</td><td>-15.318</td><td>1</td><td>0.0547</td><td>0.0271</td></tr><tr><th>13</th><td>4UkAzB4NQguupq2lB2o9Jz</td><td>0.535</td><td>2</td><td>-4.573</td><td>1</td><td>0.0319</td><td>0.48</td></tr><tr><th>14</th><td>5GMTfNKH6zkWHc4vyGCzA8</td><td>0.47</td><td>9</td><td>-9.435</td><td>1</td><td>0.0392</td><td>0.69</td></tr><tr><th>15</th><td>3PkASUKHoNOWzGmDkwnnG5</td><td>0.155</td><td>10</td><td>-17.386</td><td>1</td><td>0.0278</td><td>0.729</td></tr><tr><th>16</th><td>4zHylvyn2R5g0v3CX3B7Ae</td><td>0.246</td><td>5</td><td>-18.672</td><td>1</td><td>0.0401</td><td>0.569</td></tr><tr><th>17</th><td>5vNivpfJaXsTpYpxIHsjvm</td><td>0.546</td><td>1</td><td>-9.75</td><td>0</td><td>0.0302</td><td>0.083</td></tr><tr><th>18</th><td>3JFbWtvB53cAPg6L6UMhgG</td><td>0.375</td><td>6</td><td>-12.639</td><td>1</td><td>0.03</td><td>0.843</td></tr><tr><th>19</th><td>0LL1I2HRpuweBs4MPMtVik</td><td>0.556</td><td>9</td><td>-8.864</td><td>1</td><td>0.0295</td><td>0.734</td></tr><tr><th>20</th><td>0mxoXsr14ILAYcXZBMJcOs</td><td>0.731</td><td>6</td><td>-5.226</td><td>1</td><td>0.0407</td><td>0.0796</td></tr><tr><th>21</th><td>6SAEYDbuFUseduXQoxUahI</td><td>0.173</td><td>0</td><td>-15.879</td><td>1</td><td>0.0517</td><td>0.84</td></tr><tr><th>22</th><td>6jC4VpzLZwfD6YkWqGY09s</td><td>0.555</td><td>4</td><td>-9.081</td><td>1</td><td>0.051</td><td>0.0526</td></tr><tr><th>23</th><td>5qOxKQ1IdcyGP2ut6R1cfY</td><td>0.636</td><td>8</td><td>-9.718</td><td>1</td><td>0.0266</td><td>0.0957</td></tr><tr><th>24</th><td>2RARojKOA0SR8VxWuFyQr6</td><td>0.313</td><td>2</td><td>-10.898</td><td>1</td><td>0.0315</td><td>0.594</td></tr><tr><th>&vellip;</th><td>&vellip;</td><td>&vellip;</td><td>&vellip;</td><td>&vellip;</td><td>&vellip;</td><td>&vellip;</td><td>&vellip;</td></tr></tbody></table></div>"
      ],
      "text/latex": [
       "\\begin{tabular}{r|cccccccc}\n",
       "\t& id & energy & key & loudness & mode & speechiness & acousticness & \\\\\n",
       "\t\\hline\n",
       "\t& String31 & Float64 & Int64 & Float64 & Int64 & Float64 & Float64 & \\\\\n",
       "\t\\hline\n",
       "\t1 & 355kXbXrCIdm27pjd4fncE & 0.652 & 4 & -11.707 & 1 & 0.0374 & 0.523 & $\\dots$ \\\\\n",
       "\t2 & 5t8M1Ktl6TkrAAKVmYlc3E & 0.856 & 11 & -4.669 & 1 & 0.0421 & 0.00715 & $\\dots$ \\\\\n",
       "\t3 & 6pYKIB7l7bLqObaJlmKIyc & 0.68 & 0 & -14.698 & 0 & 0.0547 & 0.0246 & $\\dots$ \\\\\n",
       "\t4 & 1jtJDYwDAg2FZBiLTd5GJO & 0.389 & 9 & -13.75 & 1 & 0.0255 & 0.0727 & $\\dots$ \\\\\n",
       "\t5 & 11gI5uqSKvwquuoKHPH99V & 0.662 & 10 & -7.829 & 0 & 0.0463 & 0.0267 & $\\dots$ \\\\\n",
       "\t6 & 5yuMx81o4yhOQ0LDAI3CV3 & 0.264 & 2 & -13.512 & 1 & 0.0387 & 0.737 & $\\dots$ \\\\\n",
       "\t7 & 5xMeshTXi4stt1EBhwdtyW & 0.527 & 8 & -8.028 & 0 & 0.055 & 0.455 & $\\dots$ \\\\\n",
       "\t8 & 1W8EyUzQPkVyGtAkCg1HqS & 0.342 & 1 & -10.514 & 1 & 0.0269 & 0.794 & $\\dots$ \\\\\n",
       "\t9 & 5JOrWjFDzatQ1ycDJ3Tybu & 0.526 & 0 & -5.825 & 1 & 0.0407 & 0.323 & $\\dots$ \\\\\n",
       "\t10 & 63LiOsvf1w1DSbmjbxjh4b & 0.797 & 7 & -6.627 & 1 & 0.152 & 0.00257 & $\\dots$ \\\\\n",
       "\t11 & 7hnliM9hOmlNquI3igGM6d & 0.638 & 7 & -5.629 & 1 & 0.0226 & 0.121 & $\\dots$ \\\\\n",
       "\t12 & 1vRS1RUQMy8HtPsdY7CLIG & 0.479 & 1 & -15.318 & 1 & 0.0547 & 0.0271 & $\\dots$ \\\\\n",
       "\t13 & 4UkAzB4NQguupq2lB2o9Jz & 0.535 & 2 & -4.573 & 1 & 0.0319 & 0.48 & $\\dots$ \\\\\n",
       "\t14 & 5GMTfNKH6zkWHc4vyGCzA8 & 0.47 & 9 & -9.435 & 1 & 0.0392 & 0.69 & $\\dots$ \\\\\n",
       "\t15 & 3PkASUKHoNOWzGmDkwnnG5 & 0.155 & 10 & -17.386 & 1 & 0.0278 & 0.729 & $\\dots$ \\\\\n",
       "\t16 & 4zHylvyn2R5g0v3CX3B7Ae & 0.246 & 5 & -18.672 & 1 & 0.0401 & 0.569 & $\\dots$ \\\\\n",
       "\t17 & 5vNivpfJaXsTpYpxIHsjvm & 0.546 & 1 & -9.75 & 0 & 0.0302 & 0.083 & $\\dots$ \\\\\n",
       "\t18 & 3JFbWtvB53cAPg6L6UMhgG & 0.375 & 6 & -12.639 & 1 & 0.03 & 0.843 & $\\dots$ \\\\\n",
       "\t19 & 0LL1I2HRpuweBs4MPMtVik & 0.556 & 9 & -8.864 & 1 & 0.0295 & 0.734 & $\\dots$ \\\\\n",
       "\t20 & 0mxoXsr14ILAYcXZBMJcOs & 0.731 & 6 & -5.226 & 1 & 0.0407 & 0.0796 & $\\dots$ \\\\\n",
       "\t21 & 6SAEYDbuFUseduXQoxUahI & 0.173 & 0 & -15.879 & 1 & 0.0517 & 0.84 & $\\dots$ \\\\\n",
       "\t22 & 6jC4VpzLZwfD6YkWqGY09s & 0.555 & 4 & -9.081 & 1 & 0.051 & 0.0526 & $\\dots$ \\\\\n",
       "\t23 & 5qOxKQ1IdcyGP2ut6R1cfY & 0.636 & 8 & -9.718 & 1 & 0.0266 & 0.0957 & $\\dots$ \\\\\n",
       "\t24 & 2RARojKOA0SR8VxWuFyQr6 & 0.313 & 2 & -10.898 & 1 & 0.0315 & 0.594 & $\\dots$ \\\\\n",
       "\t$\\dots$ & $\\dots$ & $\\dots$ & $\\dots$ & $\\dots$ & $\\dots$ & $\\dots$ & $\\dots$ &  \\\\\n",
       "\\end{tabular}\n"
      ],
      "text/plain": [
       "\u001b[1m1786×19 DataFrame\u001b[0m\n",
       "\u001b[1m  Row \u001b[0m│\u001b[1m id                     \u001b[0m\u001b[1m energy  \u001b[0m\u001b[1m key   \u001b[0m\u001b[1m loudness \u001b[0m\u001b[1m mode  \u001b[0m\u001b[1m speechiness \u001b[0m\u001b[1m \u001b[0m ⋯\n",
       "\u001b[1m      \u001b[0m│\u001b[90m String31               \u001b[0m\u001b[90m Float64 \u001b[0m\u001b[90m Int64 \u001b[0m\u001b[90m Float64  \u001b[0m\u001b[90m Int64 \u001b[0m\u001b[90m Float64     \u001b[0m\u001b[90m \u001b[0m ⋯\n",
       "──────┼─────────────────────────────────────────────────────────────────────────\n",
       "    1 │ 355kXbXrCIdm27pjd4fncE    0.652      4   -11.707      1       0.0374   ⋯\n",
       "    2 │ 5t8M1Ktl6TkrAAKVmYlc3E    0.856     11    -4.669      1       0.0421\n",
       "    3 │ 6pYKIB7l7bLqObaJlmKIyc    0.68       0   -14.698      0       0.0547\n",
       "    4 │ 1jtJDYwDAg2FZBiLTd5GJO    0.389      9   -13.75       1       0.0255\n",
       "    5 │ 11gI5uqSKvwquuoKHPH99V    0.662     10    -7.829      0       0.0463   ⋯\n",
       "    6 │ 5yuMx81o4yhOQ0LDAI3CV3    0.264      2   -13.512      1       0.0387\n",
       "    7 │ 5xMeshTXi4stt1EBhwdtyW    0.527      8    -8.028      0       0.055\n",
       "    8 │ 1W8EyUzQPkVyGtAkCg1HqS    0.342      1   -10.514      1       0.0269\n",
       "  ⋮   │           ⋮                ⋮       ⋮       ⋮        ⋮         ⋮        ⋱\n",
       " 1780 │ 2nqpN3cSmL0tTlJ724fE2a    0.852      4    -8.157      0       0.0419   ⋯\n",
       " 1781 │ 5MXe6dKcR6iO33GWzVW8cr    0.197      9   -12.145      1       0.0267\n",
       " 1782 │ 2A557Qk0ftZqDSuAvmAxMP    0.647      8    -6.811      1       0.0433\n",
       " 1783 │ 33hOaTizdDvZQLL3GUgRn8    0.278      4   -11.977      1       0.0284\n",
       " 1784 │ 4V2F0DZrAXOWq9hkwMMG3x    0.351      0   -12.136      1       0.118    ⋯\n",
       " 1785 │ 6mTnH6xSYwKohtsO9RFzcc    0.792      4    -6.723      0       0.0361\n",
       " 1786 │ 2fSuoIlA1uTERXunbshSWh    0.516      7    -7.983      1       0.0343\n",
       "\u001b[36m                                                13 columns and 1771 rows omitted\u001b[0m"
      ]
     },
     "metadata": {},
     "output_type": "display_data"
    }
   ],
   "source": [
    "file_name = filter(x -> occursin(\".csv\", x), readdir(TEST_DIR))[1]\n",
    "file_path = joinpath(TEST_DIR, file_name)\n",
    "df = DataFrame(CSV.File(file_path))"
   ]
  },
  {
   "cell_type": "code",
   "execution_count": 15,
   "metadata": {},
   "outputs": [
    {
     "data": {
      "text/html": [
       "<div class=\"data-frame\"><p>1,786 rows × 18 columns (omitted printing of 10 columns)</p><table class=\"data-frame\"><thead><tr><th></th><th>energy</th><th>key</th><th>loudness</th><th>mode</th><th>speechiness</th><th>acousticness</th><th>instrumentalness</th><th>liveness</th></tr><tr><th></th><th title=\"Float64\">Float64</th><th title=\"Int64\">Int64</th><th title=\"Float64\">Float64</th><th title=\"Int64\">Int64</th><th title=\"Float64\">Float64</th><th title=\"Float64\">Float64</th><th title=\"Float64\">Float64</th><th title=\"Float64\">Float64</th></tr></thead><tbody><tr><th>1</th><td>0.652</td><td>4</td><td>-11.707</td><td>1</td><td>0.0374</td><td>0.523</td><td>0.000117</td><td>0.134</td></tr><tr><th>2</th><td>0.856</td><td>11</td><td>-4.669</td><td>1</td><td>0.0421</td><td>0.00715</td><td>7.61e-6</td><td>0.0982</td></tr><tr><th>3</th><td>0.68</td><td>0</td><td>-14.698</td><td>0</td><td>0.0547</td><td>0.0246</td><td>6.45e-5</td><td>0.429</td></tr><tr><th>4</th><td>0.389</td><td>9</td><td>-13.75</td><td>1</td><td>0.0255</td><td>0.0727</td><td>1.34e-6</td><td>0.0446</td></tr><tr><th>5</th><td>0.662</td><td>10</td><td>-7.829</td><td>0</td><td>0.0463</td><td>0.0267</td><td>0.0</td><td>0.648</td></tr><tr><th>6</th><td>0.264</td><td>2</td><td>-13.512</td><td>1</td><td>0.0387</td><td>0.737</td><td>0.0</td><td>0.127</td></tr><tr><th>7</th><td>0.527</td><td>8</td><td>-8.028</td><td>0</td><td>0.055</td><td>0.455</td><td>0.0</td><td>0.11</td></tr><tr><th>8</th><td>0.342</td><td>1</td><td>-10.514</td><td>1</td><td>0.0269</td><td>0.794</td><td>0.0</td><td>0.108</td></tr><tr><th>9</th><td>0.526</td><td>0</td><td>-5.825</td><td>1</td><td>0.0407</td><td>0.323</td><td>0.0</td><td>0.181</td></tr><tr><th>10</th><td>0.797</td><td>7</td><td>-6.627</td><td>1</td><td>0.152</td><td>0.00257</td><td>0.0</td><td>0.272</td></tr><tr><th>11</th><td>0.638</td><td>7</td><td>-5.629</td><td>1</td><td>0.0226</td><td>0.121</td><td>0.0</td><td>0.0993</td></tr><tr><th>12</th><td>0.479</td><td>1</td><td>-15.318</td><td>1</td><td>0.0547</td><td>0.0271</td><td>2.71e-6</td><td>0.0259</td></tr><tr><th>13</th><td>0.535</td><td>2</td><td>-4.573</td><td>1</td><td>0.0319</td><td>0.48</td><td>0.0</td><td>0.242</td></tr><tr><th>14</th><td>0.47</td><td>9</td><td>-9.435</td><td>1</td><td>0.0392</td><td>0.69</td><td>1.29e-5</td><td>0.137</td></tr><tr><th>15</th><td>0.155</td><td>10</td><td>-17.386</td><td>1</td><td>0.0278</td><td>0.729</td><td>0.0</td><td>0.0859</td></tr><tr><th>16</th><td>0.246</td><td>5</td><td>-18.672</td><td>1</td><td>0.0401</td><td>0.569</td><td>0.00109</td><td>0.355</td></tr><tr><th>17</th><td>0.546</td><td>1</td><td>-9.75</td><td>0</td><td>0.0302</td><td>0.083</td><td>0.0</td><td>0.28</td></tr><tr><th>18</th><td>0.375</td><td>6</td><td>-12.639</td><td>1</td><td>0.03</td><td>0.843</td><td>2.12e-5</td><td>0.105</td></tr><tr><th>19</th><td>0.556</td><td>9</td><td>-8.864</td><td>1</td><td>0.0295</td><td>0.734</td><td>1.13e-6</td><td>0.0979</td></tr><tr><th>20</th><td>0.731</td><td>6</td><td>-5.226</td><td>1</td><td>0.0407</td><td>0.0796</td><td>0.0</td><td>0.0402</td></tr><tr><th>21</th><td>0.173</td><td>0</td><td>-15.879</td><td>1</td><td>0.0517</td><td>0.84</td><td>0.000247</td><td>0.287</td></tr><tr><th>22</th><td>0.555</td><td>4</td><td>-9.081</td><td>1</td><td>0.051</td><td>0.0526</td><td>8.78e-5</td><td>0.0894</td></tr><tr><th>23</th><td>0.636</td><td>8</td><td>-9.718</td><td>1</td><td>0.0266</td><td>0.0957</td><td>4.06e-5</td><td>0.239</td></tr><tr><th>24</th><td>0.313</td><td>2</td><td>-10.898</td><td>1</td><td>0.0315</td><td>0.594</td><td>0.0</td><td>0.129</td></tr><tr><th>&vellip;</th><td>&vellip;</td><td>&vellip;</td><td>&vellip;</td><td>&vellip;</td><td>&vellip;</td><td>&vellip;</td><td>&vellip;</td><td>&vellip;</td></tr></tbody></table></div>"
      ],
      "text/latex": [
       "\\begin{tabular}{r|ccccccccc}\n",
       "\t& energy & key & loudness & mode & speechiness & acousticness & instrumentalness & liveness & \\\\\n",
       "\t\\hline\n",
       "\t& Float64 & Int64 & Float64 & Int64 & Float64 & Float64 & Float64 & Float64 & \\\\\n",
       "\t\\hline\n",
       "\t1 & 0.652 & 4 & -11.707 & 1 & 0.0374 & 0.523 & 0.000117 & 0.134 & $\\dots$ \\\\\n",
       "\t2 & 0.856 & 11 & -4.669 & 1 & 0.0421 & 0.00715 & 7.61e-6 & 0.0982 & $\\dots$ \\\\\n",
       "\t3 & 0.68 & 0 & -14.698 & 0 & 0.0547 & 0.0246 & 6.45e-5 & 0.429 & $\\dots$ \\\\\n",
       "\t4 & 0.389 & 9 & -13.75 & 1 & 0.0255 & 0.0727 & 1.34e-6 & 0.0446 & $\\dots$ \\\\\n",
       "\t5 & 0.662 & 10 & -7.829 & 0 & 0.0463 & 0.0267 & 0.0 & 0.648 & $\\dots$ \\\\\n",
       "\t6 & 0.264 & 2 & -13.512 & 1 & 0.0387 & 0.737 & 0.0 & 0.127 & $\\dots$ \\\\\n",
       "\t7 & 0.527 & 8 & -8.028 & 0 & 0.055 & 0.455 & 0.0 & 0.11 & $\\dots$ \\\\\n",
       "\t8 & 0.342 & 1 & -10.514 & 1 & 0.0269 & 0.794 & 0.0 & 0.108 & $\\dots$ \\\\\n",
       "\t9 & 0.526 & 0 & -5.825 & 1 & 0.0407 & 0.323 & 0.0 & 0.181 & $\\dots$ \\\\\n",
       "\t10 & 0.797 & 7 & -6.627 & 1 & 0.152 & 0.00257 & 0.0 & 0.272 & $\\dots$ \\\\\n",
       "\t11 & 0.638 & 7 & -5.629 & 1 & 0.0226 & 0.121 & 0.0 & 0.0993 & $\\dots$ \\\\\n",
       "\t12 & 0.479 & 1 & -15.318 & 1 & 0.0547 & 0.0271 & 2.71e-6 & 0.0259 & $\\dots$ \\\\\n",
       "\t13 & 0.535 & 2 & -4.573 & 1 & 0.0319 & 0.48 & 0.0 & 0.242 & $\\dots$ \\\\\n",
       "\t14 & 0.47 & 9 & -9.435 & 1 & 0.0392 & 0.69 & 1.29e-5 & 0.137 & $\\dots$ \\\\\n",
       "\t15 & 0.155 & 10 & -17.386 & 1 & 0.0278 & 0.729 & 0.0 & 0.0859 & $\\dots$ \\\\\n",
       "\t16 & 0.246 & 5 & -18.672 & 1 & 0.0401 & 0.569 & 0.00109 & 0.355 & $\\dots$ \\\\\n",
       "\t17 & 0.546 & 1 & -9.75 & 0 & 0.0302 & 0.083 & 0.0 & 0.28 & $\\dots$ \\\\\n",
       "\t18 & 0.375 & 6 & -12.639 & 1 & 0.03 & 0.843 & 2.12e-5 & 0.105 & $\\dots$ \\\\\n",
       "\t19 & 0.556 & 9 & -8.864 & 1 & 0.0295 & 0.734 & 1.13e-6 & 0.0979 & $\\dots$ \\\\\n",
       "\t20 & 0.731 & 6 & -5.226 & 1 & 0.0407 & 0.0796 & 0.0 & 0.0402 & $\\dots$ \\\\\n",
       "\t21 & 0.173 & 0 & -15.879 & 1 & 0.0517 & 0.84 & 0.000247 & 0.287 & $\\dots$ \\\\\n",
       "\t22 & 0.555 & 4 & -9.081 & 1 & 0.051 & 0.0526 & 8.78e-5 & 0.0894 & $\\dots$ \\\\\n",
       "\t23 & 0.636 & 8 & -9.718 & 1 & 0.0266 & 0.0957 & 4.06e-5 & 0.239 & $\\dots$ \\\\\n",
       "\t24 & 0.313 & 2 & -10.898 & 1 & 0.0315 & 0.594 & 0.0 & 0.129 & $\\dots$ \\\\\n",
       "\t$\\dots$ & $\\dots$ & $\\dots$ & $\\dots$ & $\\dots$ & $\\dots$ & $\\dots$ & $\\dots$ & $\\dots$ &  \\\\\n",
       "\\end{tabular}\n"
      ],
      "text/plain": [
       "\u001b[1m1786×18 DataFrame\u001b[0m\n",
       "\u001b[1m  Row \u001b[0m│\u001b[1m energy  \u001b[0m\u001b[1m key   \u001b[0m\u001b[1m loudness \u001b[0m\u001b[1m mode  \u001b[0m\u001b[1m speechiness \u001b[0m\u001b[1m acousticness \u001b[0m\u001b[1m instrument\u001b[0m ⋯\n",
       "\u001b[1m      \u001b[0m│\u001b[90m Float64 \u001b[0m\u001b[90m Int64 \u001b[0m\u001b[90m Float64  \u001b[0m\u001b[90m Int64 \u001b[0m\u001b[90m Float64     \u001b[0m\u001b[90m Float64      \u001b[0m\u001b[90m Float64   \u001b[0m ⋯\n",
       "──────┼─────────────────────────────────────────────────────────────────────────\n",
       "    1 │   0.652      4   -11.707      1       0.0374      0.523             0. ⋯\n",
       "    2 │   0.856     11    -4.669      1       0.0421      0.00715           7.\n",
       "    3 │   0.68       0   -14.698      0       0.0547      0.0246            6.\n",
       "    4 │   0.389      9   -13.75       1       0.0255      0.0727            1.\n",
       "    5 │   0.662     10    -7.829      0       0.0463      0.0267            0. ⋯\n",
       "    6 │   0.264      2   -13.512      1       0.0387      0.737             0.\n",
       "    7 │   0.527      8    -8.028      0       0.055       0.455             0.\n",
       "    8 │   0.342      1   -10.514      1       0.0269      0.794             0.\n",
       "  ⋮   │    ⋮       ⋮       ⋮        ⋮         ⋮            ⋮               ⋮   ⋱\n",
       " 1780 │   0.852      4    -8.157      0       0.0419      0.416             0. ⋯\n",
       " 1781 │   0.197      9   -12.145      1       0.0267      0.777             0.\n",
       " 1782 │   0.647      8    -6.811      1       0.0433      0.381             2.\n",
       " 1783 │   0.278      4   -11.977      1       0.0284      0.587             0.\n",
       " 1784 │   0.351      0   -12.136      1       0.118       0.226             2. ⋯\n",
       " 1785 │   0.792      4    -6.723      0       0.0361      0.000521          0.\n",
       " 1786 │   0.516      7    -7.983      1       0.0343      0.449             1.\n",
       "\u001b[36m                                                12 columns and 1771 rows omitted\u001b[0m"
      ]
     },
     "metadata": {},
     "output_type": "display_data"
    }
   ],
   "source": [
    "imputation_values = open(deserialize, IMPUTATION_FILE)\n",
    "for column in nullable_features\n",
    "    df[!, Symbol(column)] .= coalesce.(df[!, Symbol(column)], get(imputation_values, string(column), missing))\n",
    "end\n",
    "\n",
    "# Saving the id column in a different variable\n",
    "ids = df[!, Symbol(id_feature)]\n",
    "\n",
    "# Dropping the id and target from the DataFrame\n",
    "select!(df, Not([Symbol(id_feature)]))"
   ]
  },
  {
   "cell_type": "code",
   "execution_count": 16,
   "metadata": {},
   "outputs": [],
   "source": [
    "loaded_top_categories = open(deserialize, TOP_CATEGORIES)\n",
    "\n",
    "# Function to one-hot encode only the top 3 categories\n",
    "function one_hot_top_categories!(df, top_categories)\n",
    "    for (feature, top_cats) in top_categories\n",
    "        if length(top_cats) == 2  # Handle the binary case\n",
    "            # Assuming the first category in top_cats is treated as 'true'\n",
    "            new_col_name = \"$(feature)_binary\"\n",
    "            df[!, new_col_name] = df[!, feature] .== top_cats[1]\n",
    "        else  # Handle the general case\n",
    "            for cat in top_cats\n",
    "                new_col_name = \"$(feature)_$(cat)\"\n",
    "                df[!, new_col_name] = df[!, feature] .== cat\n",
    "            end\n",
    "        end\n",
    "        select!(df, Not(Symbol(feature)))  # Drop the original feature column\n",
    "    end\n",
    "end\n",
    "\n",
    "\n",
    "\n",
    "one_hot_top_categories!(df, loaded_top_categories)"
   ]
  },
  {
   "cell_type": "code",
   "execution_count": 17,
   "metadata": {},
   "outputs": [
    {
     "data": {
      "text/plain": [
       "1786-element Vector{Union{Missing, Float64}}:\n",
       " 0.6146136662128445\n",
       " 0.6717073267021385\n",
       " 0.62262870686972\n",
       " 0.6631447171077764\n",
       " 0.47298372140353706\n",
       " 0.5095759991533177\n",
       " 0.666907511316748\n",
       " 0.458931931881122\n",
       " 0.5992937449955925\n",
       " 0.7898685508954684\n",
       " ⋮\n",
       " 0.6840166594294237\n",
       " 0.7112754197135341\n",
       " 0.6761309679917424\n",
       " 0.5582199667476604\n",
       " 0.7002823391096924\n",
       " 0.49638774200679464\n",
       " 0.6533891978615152\n",
       " 0.5432435243902574\n",
       " 0.5036601650907818"
      ]
     },
     "metadata": {},
     "output_type": "display_data"
    }
   ],
   "source": [
    "# Load the saved model\n",
    "model = JLD2.load(PREDICTOR_FILE_PATH, \"model\")\n",
    "\n",
    "# Make predictions\n",
    "predictions = GLM.predict(model, df)"
   ]
  },
  {
   "cell_type": "code",
   "execution_count": 18,
   "metadata": {},
   "outputs": [
    {
     "data": {
      "text/plain": [
       "\"/Users/moo/Desktop/Upwork/rt-ML/Regression/Julia/Juila-Linear-Regression-Template/model_inputs_outputs/outputs/predictions/predictions.csv\""
      ]
     },
     "metadata": {},
     "output_type": "display_data"
    }
   ],
   "source": [
    "id_column_name = id_feature\n",
    "prediction_column_name = \"prediction\"\n",
    "# Create a DataFrame\n",
    "df = DataFrame()\n",
    "df[!, Symbol(id_column_name)] = ids\n",
    "df[!, Symbol(prediction_column_name)] = predictions\n",
    "\n",
    "# Save the DataFrame to a CSV file\n",
    "CSV.write(PREDICTIONS_FILE, df)"
   ]
  },
  {
   "cell_type": "code",
   "execution_count": null,
   "metadata": {},
   "outputs": [],
   "source": []
  }
 ],
 "metadata": {
  "kernelspec": {
   "display_name": "Julia 1.9.3",
   "language": "julia",
   "name": "julia-1.9"
  },
  "language_info": {
   "file_extension": ".jl",
   "mimetype": "application/julia",
   "name": "julia",
   "version": "1.9.3"
  }
 },
 "nbformat": 4,
 "nbformat_minor": 4
}
